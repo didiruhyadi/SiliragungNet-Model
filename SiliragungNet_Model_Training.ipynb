{
  "nbformat": 4,
  "nbformat_minor": 0,
  "metadata": {
    "colab": {
      "name": "SiliragungNet: Model Training.ipynb",
      "provenance": [],
      "collapsed_sections": [],
      "authorship_tag": "ABX9TyO7kbKwIFWNdarJ8OwenIV7",
      "include_colab_link": true
    },
    "kernelspec": {
      "name": "python3",
      "display_name": "Python 3"
    },
    "language_info": {
      "name": "python"
    },
    "accelerator": "GPU"
  },
  "cells": [
    {
      "cell_type": "markdown",
      "metadata": {
        "id": "view-in-github",
        "colab_type": "text"
      },
      "source": [
        "<a href=\"https://colab.research.google.com/github/didiruhyadi/SiliragungNet-Model/blob/main/SiliragungNet_Model_Training.ipynb\" target=\"_parent\"><img src=\"https://colab.research.google.com/assets/colab-badge.svg\" alt=\"Open In Colab\"/></a>"
      ]
    },
    {
      "cell_type": "markdown",
      "metadata": {
        "id": "HycqlVa3g2hj"
      },
      "source": [
        "[Github](https://github.com/tensorflow/examples/tree/master/lite/examples/object_detection/android)\n",
        "[Readthedocs](https://tensorflow-object-detection-api-tutorial.readthedocs.io/en/latest/training.html)"
      ]
    },
    {
      "cell_type": "code",
      "metadata": {
        "id": "wYCEgq_N1-pd"
      },
      "source": [
        "# clone tensorflow model garden\n",
        "import os\n",
        "import pathlib\n",
        "\n",
        "# clone tensorflow model garden dari github\n",
        "if \"models\" in pathlib.Path.cwd().parts:\n",
        "  while \"models\" in pathlib.Path.cwd().parts:\n",
        "    os.chdir('..')\n",
        "elif not pathlib.Path('models').exists():\n",
        "  !git clone --depth 1 https://github.com/tensorflow/models"
      ],
      "execution_count": 47,
      "outputs": []
    },
    {
      "cell_type": "code",
      "metadata": {
        "colab": {
          "base_uri": "https://localhost:8080/"
        },
        "id": "c8nTD2kkY2vm",
        "outputId": "abf489e7-502c-42db-bf6e-8b3c7d912dd4"
      },
      "source": [
        "# Install the Object Detection API\n",
        "%%bash\n",
        "cd models/research/\n",
        "protoc object_detection/protos/*.proto --python_out=.\n",
        "cp object_detection/packages/tf2/setup.py .\n",
        "python -m pip install ."
      ],
      "execution_count": 48,
      "outputs": [
        {
          "output_type": "stream",
          "text": [
            "Processing /models/research\n",
            "Requirement already satisfied: avro-python3 in /usr/local/lib/python3.7/dist-packages (from object-detection==0.1) (1.10.2)\n",
            "Requirement already satisfied: apache-beam in /usr/local/lib/python3.7/dist-packages (from object-detection==0.1) (2.29.0)\n",
            "Requirement already satisfied: pillow in /usr/local/lib/python3.7/dist-packages (from object-detection==0.1) (7.1.2)\n",
            "Requirement already satisfied: lxml in /usr/local/lib/python3.7/dist-packages (from object-detection==0.1) (4.2.6)\n",
            "Requirement already satisfied: matplotlib in /usr/local/lib/python3.7/dist-packages (from object-detection==0.1) (3.2.2)\n",
            "Requirement already satisfied: Cython in /usr/local/lib/python3.7/dist-packages (from object-detection==0.1) (0.29.22)\n",
            "Requirement already satisfied: contextlib2 in /usr/local/lib/python3.7/dist-packages (from object-detection==0.1) (0.5.5)\n",
            "Requirement already satisfied: tf-slim in /usr/local/lib/python3.7/dist-packages (from object-detection==0.1) (1.1.0)\n",
            "Requirement already satisfied: six in /usr/local/lib/python3.7/dist-packages (from object-detection==0.1) (1.15.0)\n",
            "Requirement already satisfied: pycocotools in /usr/local/lib/python3.7/dist-packages (from object-detection==0.1) (2.0.2)\n",
            "Requirement already satisfied: lvis in /usr/local/lib/python3.7/dist-packages (from object-detection==0.1) (0.5.3)\n",
            "Requirement already satisfied: scipy in /usr/local/lib/python3.7/dist-packages (from object-detection==0.1) (1.4.1)\n",
            "Requirement already satisfied: pandas in /usr/local/lib/python3.7/dist-packages (from object-detection==0.1) (1.1.5)\n",
            "Requirement already satisfied: tf-models-official in /usr/local/lib/python3.7/dist-packages (from object-detection==0.1) (2.4.0)\n",
            "Requirement already satisfied: requests<3.0.0,>=2.24.0 in /usr/local/lib/python3.7/dist-packages (from apache-beam->object-detection==0.1) (2.25.1)\n",
            "Requirement already satisfied: oauth2client<5,>=2.0.1 in /usr/local/lib/python3.7/dist-packages (from apache-beam->object-detection==0.1) (4.1.3)\n",
            "Requirement already satisfied: protobuf<4,>=3.12.2 in /usr/local/lib/python3.7/dist-packages (from apache-beam->object-detection==0.1) (3.12.4)\n",
            "Requirement already satisfied: crcmod<2.0,>=1.7 in /usr/local/lib/python3.7/dist-packages (from apache-beam->object-detection==0.1) (1.7)\n",
            "Requirement already satisfied: httplib2<0.18.0,>=0.8 in /usr/local/lib/python3.7/dist-packages (from apache-beam->object-detection==0.1) (0.17.4)\n",
            "Requirement already satisfied: numpy<1.21.0,>=1.14.3 in /usr/local/lib/python3.7/dist-packages (from apache-beam->object-detection==0.1) (1.19.5)\n",
            "Requirement already satisfied: pymongo<4.0.0,>=3.8.0 in /usr/local/lib/python3.7/dist-packages (from apache-beam->object-detection==0.1) (3.11.3)\n",
            "Requirement already satisfied: pydot<2,>=1.2.0 in /usr/local/lib/python3.7/dist-packages (from apache-beam->object-detection==0.1) (1.3.0)\n",
            "Requirement already satisfied: grpcio<2,>=1.29.0 in /usr/local/lib/python3.7/dist-packages (from apache-beam->object-detection==0.1) (1.32.0)\n",
            "Requirement already satisfied: pyarrow<4.0.0,>=0.15.1 in /usr/local/lib/python3.7/dist-packages (from apache-beam->object-detection==0.1) (3.0.0)\n",
            "Requirement already satisfied: pytz>=2018.3 in /usr/local/lib/python3.7/dist-packages (from apache-beam->object-detection==0.1) (2018.9)\n",
            "Requirement already satisfied: python-dateutil<3,>=2.8.0 in /usr/local/lib/python3.7/dist-packages (from apache-beam->object-detection==0.1) (2.8.1)\n",
            "Requirement already satisfied: typing-extensions<3.8.0,>=3.7.0 in /usr/local/lib/python3.7/dist-packages (from apache-beam->object-detection==0.1) (3.7.4.3)\n",
            "Requirement already satisfied: dill<0.3.2,>=0.3.1.1 in /usr/local/lib/python3.7/dist-packages (from apache-beam->object-detection==0.1) (0.3.1.1)\n",
            "Requirement already satisfied: hdfs<3.0.0,>=2.1.0 in /usr/local/lib/python3.7/dist-packages (from apache-beam->object-detection==0.1) (2.6.0)\n",
            "Requirement already satisfied: future<1.0.0,>=0.18.2 in /usr/local/lib/python3.7/dist-packages (from apache-beam->object-detection==0.1) (0.18.2)\n",
            "Requirement already satisfied: fastavro<2,>=0.21.4 in /usr/local/lib/python3.7/dist-packages (from apache-beam->object-detection==0.1) (1.4.0)\n",
            "Requirement already satisfied: cycler>=0.10 in /usr/local/lib/python3.7/dist-packages (from matplotlib->object-detection==0.1) (0.10.0)\n",
            "Requirement already satisfied: kiwisolver>=1.0.1 in /usr/local/lib/python3.7/dist-packages (from matplotlib->object-detection==0.1) (1.3.1)\n",
            "Requirement already satisfied: pyparsing!=2.0.4,!=2.1.2,!=2.1.6,>=2.0.1 in /usr/local/lib/python3.7/dist-packages (from matplotlib->object-detection==0.1) (2.4.7)\n",
            "Requirement already satisfied: absl-py>=0.2.2 in /usr/local/lib/python3.7/dist-packages (from tf-slim->object-detection==0.1) (0.12.0)\n",
            "Requirement already satisfied: setuptools>=18.0 in /usr/local/lib/python3.7/dist-packages (from pycocotools->object-detection==0.1) (56.1.0)\n",
            "Requirement already satisfied: opencv-python>=4.1.0.25 in /usr/local/lib/python3.7/dist-packages (from lvis->object-detection==0.1) (4.1.2.30)\n",
            "Requirement already satisfied: sentencepiece in /usr/local/lib/python3.7/dist-packages (from tf-models-official->object-detection==0.1) (0.1.95)\n",
            "Requirement already satisfied: kaggle>=1.3.9 in /usr/local/lib/python3.7/dist-packages (from tf-models-official->object-detection==0.1) (1.5.12)\n",
            "Requirement already satisfied: opencv-python-headless in /usr/local/lib/python3.7/dist-packages (from tf-models-official->object-detection==0.1) (4.5.2.52)\n",
            "Requirement already satisfied: tensorflow-addons in /usr/local/lib/python3.7/dist-packages (from tf-models-official->object-detection==0.1) (0.12.1)\n",
            "Requirement already satisfied: tensorflow-hub>=0.6.0 in /usr/local/lib/python3.7/dist-packages (from tf-models-official->object-detection==0.1) (0.12.0)\n",
            "Collecting tensorflow>=2.4.0\n",
            "  Using cached https://files.pythonhosted.org/packages/70/dc/e8c5e7983866fa4ef3fd619faa35f660b95b01a2ab62b3884f038ccab542/tensorflow-2.4.1-cp37-cp37m-manylinux2010_x86_64.whl\n",
            "Requirement already satisfied: gin-config in /usr/local/lib/python3.7/dist-packages (from tf-models-official->object-detection==0.1) (0.4.0)\n",
            "Requirement already satisfied: dataclasses in /usr/local/lib/python3.7/dist-packages (from tf-models-official->object-detection==0.1) (0.6)\n",
            "Requirement already satisfied: tensorflow-model-optimization>=0.4.1 in /usr/local/lib/python3.7/dist-packages (from tf-models-official->object-detection==0.1) (0.5.0)\n",
            "Requirement already satisfied: pyyaml>=5.1 in /usr/local/lib/python3.7/dist-packages (from tf-models-official->object-detection==0.1) (5.4.1)\n",
            "Requirement already satisfied: psutil>=5.4.3 in /usr/local/lib/python3.7/dist-packages (from tf-models-official->object-detection==0.1) (5.4.8)\n",
            "Requirement already satisfied: seqeval in /usr/local/lib/python3.7/dist-packages (from tf-models-official->object-detection==0.1) (1.2.2)\n",
            "Requirement already satisfied: google-api-python-client>=1.6.7 in /usr/local/lib/python3.7/dist-packages (from tf-models-official->object-detection==0.1) (1.12.8)\n",
            "Requirement already satisfied: tensorflow-datasets in /usr/local/lib/python3.7/dist-packages (from tf-models-official->object-detection==0.1) (4.0.1)\n",
            "Requirement already satisfied: py-cpuinfo>=3.3.0 in /usr/local/lib/python3.7/dist-packages (from tf-models-official->object-detection==0.1) (8.0.0)\n",
            "Requirement already satisfied: google-cloud-bigquery>=0.31.0 in /usr/local/lib/python3.7/dist-packages (from tf-models-official->object-detection==0.1) (1.21.0)\n",
            "Requirement already satisfied: chardet<5,>=3.0.2 in /usr/local/lib/python3.7/dist-packages (from requests<3.0.0,>=2.24.0->apache-beam->object-detection==0.1) (3.0.4)\n",
            "Requirement already satisfied: urllib3<1.27,>=1.21.1 in /usr/local/lib/python3.7/dist-packages (from requests<3.0.0,>=2.24.0->apache-beam->object-detection==0.1) (1.24.3)\n",
            "Requirement already satisfied: certifi>=2017.4.17 in /usr/local/lib/python3.7/dist-packages (from requests<3.0.0,>=2.24.0->apache-beam->object-detection==0.1) (2020.12.5)\n",
            "Requirement already satisfied: idna<3,>=2.5 in /usr/local/lib/python3.7/dist-packages (from requests<3.0.0,>=2.24.0->apache-beam->object-detection==0.1) (2.10)\n",
            "Requirement already satisfied: rsa>=3.1.4 in /usr/local/lib/python3.7/dist-packages (from oauth2client<5,>=2.0.1->apache-beam->object-detection==0.1) (4.7.2)\n",
            "Requirement already satisfied: pyasn1>=0.1.7 in /usr/local/lib/python3.7/dist-packages (from oauth2client<5,>=2.0.1->apache-beam->object-detection==0.1) (0.4.8)\n",
            "Requirement already satisfied: pyasn1-modules>=0.0.5 in /usr/local/lib/python3.7/dist-packages (from oauth2client<5,>=2.0.1->apache-beam->object-detection==0.1) (0.2.8)\n",
            "Requirement already satisfied: docopt in /usr/local/lib/python3.7/dist-packages (from hdfs<3.0.0,>=2.1.0->apache-beam->object-detection==0.1) (0.6.2)\n",
            "Requirement already satisfied: python-slugify in /usr/local/lib/python3.7/dist-packages (from kaggle>=1.3.9->tf-models-official->object-detection==0.1) (4.0.1)\n",
            "Requirement already satisfied: tqdm in /usr/local/lib/python3.7/dist-packages (from kaggle>=1.3.9->tf-models-official->object-detection==0.1) (4.41.1)\n",
            "Requirement already satisfied: typeguard>=2.7 in /usr/local/lib/python3.7/dist-packages (from tensorflow-addons->tf-models-official->object-detection==0.1) (2.7.1)\n",
            "Requirement already satisfied: google-pasta~=0.2 in /usr/local/lib/python3.7/dist-packages (from tensorflow>=2.4.0->tf-models-official->object-detection==0.1) (0.2.0)\n",
            "Collecting tensorflow-estimator<2.5.0,>=2.4.0\n",
            "  Using cached https://files.pythonhosted.org/packages/74/7e/622d9849abf3afb81e482ffc170758742e392ee129ce1540611199a59237/tensorflow_estimator-2.4.0-py2.py3-none-any.whl\n",
            "Requirement already satisfied: wrapt~=1.12.1 in /usr/local/lib/python3.7/dist-packages (from tensorflow>=2.4.0->tf-models-official->object-detection==0.1) (1.12.1)\n",
            "Requirement already satisfied: gast==0.3.3 in /usr/local/lib/python3.7/dist-packages (from tensorflow>=2.4.0->tf-models-official->object-detection==0.1) (0.3.3)\n",
            "Requirement already satisfied: wheel~=0.35 in /usr/local/lib/python3.7/dist-packages (from tensorflow>=2.4.0->tf-models-official->object-detection==0.1) (0.36.2)\n",
            "Collecting tensorboard~=2.4\n",
            "  Using cached https://files.pythonhosted.org/packages/44/f5/7feea02a3fb54d5db827ac4b822a7ba8933826b36de21880518250b8733a/tensorboard-2.5.0-py3-none-any.whl\n",
            "Requirement already satisfied: termcolor~=1.1.0 in /usr/local/lib/python3.7/dist-packages (from tensorflow>=2.4.0->tf-models-official->object-detection==0.1) (1.1.0)\n",
            "Requirement already satisfied: flatbuffers~=1.12.0 in /usr/local/lib/python3.7/dist-packages (from tensorflow>=2.4.0->tf-models-official->object-detection==0.1) (1.12)\n",
            "Requirement already satisfied: astunparse~=1.6.3 in /usr/local/lib/python3.7/dist-packages (from tensorflow>=2.4.0->tf-models-official->object-detection==0.1) (1.6.3)\n",
            "Requirement already satisfied: opt-einsum~=3.3.0 in /usr/local/lib/python3.7/dist-packages (from tensorflow>=2.4.0->tf-models-official->object-detection==0.1) (3.3.0)\n",
            "Requirement already satisfied: keras-preprocessing~=1.1.2 in /usr/local/lib/python3.7/dist-packages (from tensorflow>=2.4.0->tf-models-official->object-detection==0.1) (1.1.2)\n",
            "Requirement already satisfied: h5py~=2.10.0 in /usr/local/lib/python3.7/dist-packages (from tensorflow>=2.4.0->tf-models-official->object-detection==0.1) (2.10.0)\n",
            "Requirement already satisfied: dm-tree~=0.1.1 in /usr/local/lib/python3.7/dist-packages (from tensorflow-model-optimization>=0.4.1->tf-models-official->object-detection==0.1) (0.1.6)\n",
            "Requirement already satisfied: scikit-learn>=0.21.3 in /usr/local/lib/python3.7/dist-packages (from seqeval->tf-models-official->object-detection==0.1) (0.22.2.post1)\n",
            "Requirement already satisfied: google-api-core<2dev,>=1.21.0 in /usr/local/lib/python3.7/dist-packages (from google-api-python-client>=1.6.7->tf-models-official->object-detection==0.1) (1.26.3)\n",
            "Requirement already satisfied: google-auth-httplib2>=0.0.3 in /usr/local/lib/python3.7/dist-packages (from google-api-python-client>=1.6.7->tf-models-official->object-detection==0.1) (0.0.4)\n",
            "Requirement already satisfied: google-auth>=1.16.0 in /usr/local/lib/python3.7/dist-packages (from google-api-python-client>=1.6.7->tf-models-official->object-detection==0.1) (1.28.1)\n",
            "Requirement already satisfied: uritemplate<4dev,>=3.0.0 in /usr/local/lib/python3.7/dist-packages (from google-api-python-client>=1.6.7->tf-models-official->object-detection==0.1) (3.0.1)\n",
            "Requirement already satisfied: attrs>=18.1.0 in /usr/local/lib/python3.7/dist-packages (from tensorflow-datasets->tf-models-official->object-detection==0.1) (20.3.0)\n",
            "Requirement already satisfied: importlib-resources; python_version < \"3.9\" in /usr/local/lib/python3.7/dist-packages (from tensorflow-datasets->tf-models-official->object-detection==0.1) (5.1.2)\n",
            "Requirement already satisfied: promise in /usr/local/lib/python3.7/dist-packages (from tensorflow-datasets->tf-models-official->object-detection==0.1) (2.3)\n",
            "Requirement already satisfied: tensorflow-metadata in /usr/local/lib/python3.7/dist-packages (from tensorflow-datasets->tf-models-official->object-detection==0.1) (0.29.0)\n",
            "Requirement already satisfied: google-resumable-media!=0.4.0,<0.5.0dev,>=0.3.1 in /usr/local/lib/python3.7/dist-packages (from google-cloud-bigquery>=0.31.0->tf-models-official->object-detection==0.1) (0.4.1)\n",
            "Requirement already satisfied: google-cloud-core<2.0dev,>=1.0.3 in /usr/local/lib/python3.7/dist-packages (from google-cloud-bigquery>=0.31.0->tf-models-official->object-detection==0.1) (1.0.3)\n",
            "Requirement already satisfied: text-unidecode>=1.3 in /usr/local/lib/python3.7/dist-packages (from python-slugify->kaggle>=1.3.9->tf-models-official->object-detection==0.1) (1.3)\n",
            "Requirement already satisfied: werkzeug>=0.11.15 in /usr/local/lib/python3.7/dist-packages (from tensorboard~=2.4->tensorflow>=2.4.0->tf-models-official->object-detection==0.1) (1.0.1)\n",
            "Requirement already satisfied: google-auth-oauthlib<0.5,>=0.4.1 in /usr/local/lib/python3.7/dist-packages (from tensorboard~=2.4->tensorflow>=2.4.0->tf-models-official->object-detection==0.1) (0.4.4)\n",
            "Requirement already satisfied: tensorboard-plugin-wit>=1.6.0 in /usr/local/lib/python3.7/dist-packages (from tensorboard~=2.4->tensorflow>=2.4.0->tf-models-official->object-detection==0.1) (1.8.0)\n",
            "Requirement already satisfied: markdown>=2.6.8 in /usr/local/lib/python3.7/dist-packages (from tensorboard~=2.4->tensorflow>=2.4.0->tf-models-official->object-detection==0.1) (3.3.4)\n",
            "Requirement already satisfied: tensorboard-data-server<0.7.0,>=0.6.0 in /usr/local/lib/python3.7/dist-packages (from tensorboard~=2.4->tensorflow>=2.4.0->tf-models-official->object-detection==0.1) (0.6.1)\n",
            "Requirement already satisfied: joblib>=0.11 in /usr/local/lib/python3.7/dist-packages (from scikit-learn>=0.21.3->seqeval->tf-models-official->object-detection==0.1) (1.0.1)\n",
            "Requirement already satisfied: packaging>=14.3 in /usr/local/lib/python3.7/dist-packages (from google-api-core<2dev,>=1.21.0->google-api-python-client>=1.6.7->tf-models-official->object-detection==0.1) (20.9)\n",
            "Requirement already satisfied: googleapis-common-protos<2.0dev,>=1.6.0 in /usr/local/lib/python3.7/dist-packages (from google-api-core<2dev,>=1.21.0->google-api-python-client>=1.6.7->tf-models-official->object-detection==0.1) (1.53.0)\n",
            "Requirement already satisfied: cachetools<5.0,>=2.0.0 in /usr/local/lib/python3.7/dist-packages (from google-auth>=1.16.0->google-api-python-client>=1.6.7->tf-models-official->object-detection==0.1) (4.2.1)\n",
            "Requirement already satisfied: zipp>=0.4; python_version < \"3.8\" in /usr/local/lib/python3.7/dist-packages (from importlib-resources; python_version < \"3.9\"->tensorflow-datasets->tf-models-official->object-detection==0.1) (3.4.1)\n",
            "Requirement already satisfied: requests-oauthlib>=0.7.0 in /usr/local/lib/python3.7/dist-packages (from google-auth-oauthlib<0.5,>=0.4.1->tensorboard~=2.4->tensorflow>=2.4.0->tf-models-official->object-detection==0.1) (1.3.0)\n",
            "Requirement already satisfied: importlib-metadata; python_version < \"3.8\" in /usr/local/lib/python3.7/dist-packages (from markdown>=2.6.8->tensorboard~=2.4->tensorflow>=2.4.0->tf-models-official->object-detection==0.1) (3.10.1)\n",
            "Requirement already satisfied: oauthlib>=3.0.0 in /usr/local/lib/python3.7/dist-packages (from requests-oauthlib>=0.7.0->google-auth-oauthlib<0.5,>=0.4.1->tensorboard~=2.4->tensorflow>=2.4.0->tf-models-official->object-detection==0.1) (3.1.0)\n",
            "Building wheels for collected packages: object-detection\n",
            "  Building wheel for object-detection (setup.py): started\n",
            "  Building wheel for object-detection (setup.py): finished with status 'done'\n",
            "  Created wheel for object-detection: filename=object_detection-0.1-cp37-none-any.whl size=1648606 sha256=5eb682860027ec11fe5e5710f842e141e0ab24c6bfc48dbe4d900c37f2c7650f\n",
            "  Stored in directory: /tmp/pip-ephem-wheel-cache-84v__h1r/wheels/23/19/1a/54400494cd6ecf14598c17ab4c081a29bd4886ae40e21f56a9\n",
            "Successfully built object-detection\n",
            "Installing collected packages: object-detection, tensorflow-estimator, tensorboard, tensorflow\n",
            "  Found existing installation: object-detection 0.1\n",
            "    Uninstalling object-detection-0.1:\n",
            "      Successfully uninstalled object-detection-0.1\n",
            "  Found existing installation: tensorflow-estimator 2.2.0\n",
            "    Uninstalling tensorflow-estimator-2.2.0:\n",
            "      Successfully uninstalled tensorflow-estimator-2.2.0\n",
            "  Found existing installation: tensorboard 2.2.2\n",
            "    Uninstalling tensorboard-2.2.2:\n",
            "      Successfully uninstalled tensorboard-2.2.2\n",
            "  Found existing installation: tensorflow 2.2.0\n",
            "    Uninstalling tensorflow-2.2.0:\n",
            "      Successfully uninstalled tensorflow-2.2.0\n",
            "Successfully installed object-detection-0.1 tensorboard-2.5.0 tensorflow-2.4.1 tensorflow-estimator-2.4.0\n"
          ],
          "name": "stdout"
        }
      ]
    },
    {
      "cell_type": "code",
      "metadata": {
        "colab": {
          "base_uri": "https://localhost:8080/",
          "height": 1000
        },
        "id": "DrzNZ_2Xd9hg",
        "outputId": "263ea785-5f1d-4c9e-bdb9-b1c11c7dc550"
      },
      "source": [
        "# install tensorflow 2.2.0\n",
        "!pip install tensorflow==2.2.0"
      ],
      "execution_count": 49,
      "outputs": [
        {
          "output_type": "stream",
          "text": [
            "Collecting tensorflow==2.2.0\n",
            "  Using cached https://files.pythonhosted.org/packages/4c/1a/0d79814736cfecc825ab8094b39648cc9c46af7af1bae839928acb73b4dd/tensorflow-2.2.0-cp37-cp37m-manylinux2010_x86_64.whl\n",
            "Requirement already satisfied: wheel>=0.26; python_version >= \"3\" in /usr/local/lib/python3.7/dist-packages (from tensorflow==2.2.0) (0.36.2)\n",
            "Requirement already satisfied: absl-py>=0.7.0 in /usr/local/lib/python3.7/dist-packages (from tensorflow==2.2.0) (0.12.0)\n",
            "Requirement already satisfied: gast==0.3.3 in /usr/local/lib/python3.7/dist-packages (from tensorflow==2.2.0) (0.3.3)\n",
            "Requirement already satisfied: six>=1.12.0 in /usr/local/lib/python3.7/dist-packages (from tensorflow==2.2.0) (1.15.0)\n",
            "Requirement already satisfied: grpcio>=1.8.6 in /usr/local/lib/python3.7/dist-packages (from tensorflow==2.2.0) (1.32.0)\n",
            "Requirement already satisfied: astunparse==1.6.3 in /usr/local/lib/python3.7/dist-packages (from tensorflow==2.2.0) (1.6.3)\n",
            "Requirement already satisfied: opt-einsum>=2.3.2 in /usr/local/lib/python3.7/dist-packages (from tensorflow==2.2.0) (3.3.0)\n",
            "Requirement already satisfied: numpy<2.0,>=1.16.0 in /usr/local/lib/python3.7/dist-packages (from tensorflow==2.2.0) (1.19.5)\n",
            "Collecting tensorboard<2.3.0,>=2.2.0\n",
            "  Using cached https://files.pythonhosted.org/packages/1d/74/0a6fcb206dcc72a6da9a62dd81784bfdbff5fedb099982861dc2219014fb/tensorboard-2.2.2-py3-none-any.whl\n",
            "Requirement already satisfied: wrapt>=1.11.1 in /usr/local/lib/python3.7/dist-packages (from tensorflow==2.2.0) (1.12.1)\n",
            "Requirement already satisfied: scipy==1.4.1; python_version >= \"3\" in /usr/local/lib/python3.7/dist-packages (from tensorflow==2.2.0) (1.4.1)\n",
            "Requirement already satisfied: keras-preprocessing>=1.1.0 in /usr/local/lib/python3.7/dist-packages (from tensorflow==2.2.0) (1.1.2)\n",
            "Requirement already satisfied: termcolor>=1.1.0 in /usr/local/lib/python3.7/dist-packages (from tensorflow==2.2.0) (1.1.0)\n",
            "Requirement already satisfied: protobuf>=3.8.0 in /usr/local/lib/python3.7/dist-packages (from tensorflow==2.2.0) (3.12.4)\n",
            "Requirement already satisfied: google-pasta>=0.1.8 in /usr/local/lib/python3.7/dist-packages (from tensorflow==2.2.0) (0.2.0)\n",
            "Collecting tensorflow-estimator<2.3.0,>=2.2.0\n",
            "  Using cached https://files.pythonhosted.org/packages/a4/f5/926ae53d6a226ec0fda5208e0e581cffed895ccc89e36ba76a8e60895b78/tensorflow_estimator-2.2.0-py2.py3-none-any.whl\n",
            "Requirement already satisfied: h5py<2.11.0,>=2.10.0 in /usr/local/lib/python3.7/dist-packages (from tensorflow==2.2.0) (2.10.0)\n",
            "Requirement already satisfied: markdown>=2.6.8 in /usr/local/lib/python3.7/dist-packages (from tensorboard<2.3.0,>=2.2.0->tensorflow==2.2.0) (3.3.4)\n",
            "Requirement already satisfied: requests<3,>=2.21.0 in /usr/local/lib/python3.7/dist-packages (from tensorboard<2.3.0,>=2.2.0->tensorflow==2.2.0) (2.25.1)\n",
            "Requirement already satisfied: setuptools>=41.0.0 in /usr/local/lib/python3.7/dist-packages (from tensorboard<2.3.0,>=2.2.0->tensorflow==2.2.0) (56.1.0)\n",
            "Requirement already satisfied: tensorboard-plugin-wit>=1.6.0 in /usr/local/lib/python3.7/dist-packages (from tensorboard<2.3.0,>=2.2.0->tensorflow==2.2.0) (1.8.0)\n",
            "Requirement already satisfied: werkzeug>=0.11.15 in /usr/local/lib/python3.7/dist-packages (from tensorboard<2.3.0,>=2.2.0->tensorflow==2.2.0) (1.0.1)\n",
            "Requirement already satisfied: google-auth-oauthlib<0.5,>=0.4.1 in /usr/local/lib/python3.7/dist-packages (from tensorboard<2.3.0,>=2.2.0->tensorflow==2.2.0) (0.4.4)\n",
            "Requirement already satisfied: google-auth<2,>=1.6.3 in /usr/local/lib/python3.7/dist-packages (from tensorboard<2.3.0,>=2.2.0->tensorflow==2.2.0) (1.28.1)\n",
            "Requirement already satisfied: importlib-metadata; python_version < \"3.8\" in /usr/local/lib/python3.7/dist-packages (from markdown>=2.6.8->tensorboard<2.3.0,>=2.2.0->tensorflow==2.2.0) (3.10.1)\n",
            "Requirement already satisfied: idna<3,>=2.5 in /usr/local/lib/python3.7/dist-packages (from requests<3,>=2.21.0->tensorboard<2.3.0,>=2.2.0->tensorflow==2.2.0) (2.10)\n",
            "Requirement already satisfied: chardet<5,>=3.0.2 in /usr/local/lib/python3.7/dist-packages (from requests<3,>=2.21.0->tensorboard<2.3.0,>=2.2.0->tensorflow==2.2.0) (3.0.4)\n",
            "Requirement already satisfied: urllib3<1.27,>=1.21.1 in /usr/local/lib/python3.7/dist-packages (from requests<3,>=2.21.0->tensorboard<2.3.0,>=2.2.0->tensorflow==2.2.0) (1.24.3)\n",
            "Requirement already satisfied: certifi>=2017.4.17 in /usr/local/lib/python3.7/dist-packages (from requests<3,>=2.21.0->tensorboard<2.3.0,>=2.2.0->tensorflow==2.2.0) (2020.12.5)\n",
            "Requirement already satisfied: requests-oauthlib>=0.7.0 in /usr/local/lib/python3.7/dist-packages (from google-auth-oauthlib<0.5,>=0.4.1->tensorboard<2.3.0,>=2.2.0->tensorflow==2.2.0) (1.3.0)\n",
            "Requirement already satisfied: pyasn1-modules>=0.2.1 in /usr/local/lib/python3.7/dist-packages (from google-auth<2,>=1.6.3->tensorboard<2.3.0,>=2.2.0->tensorflow==2.2.0) (0.2.8)\n",
            "Requirement already satisfied: cachetools<5.0,>=2.0.0 in /usr/local/lib/python3.7/dist-packages (from google-auth<2,>=1.6.3->tensorboard<2.3.0,>=2.2.0->tensorflow==2.2.0) (4.2.1)\n",
            "Requirement already satisfied: rsa<5,>=3.1.4; python_version >= \"3.6\" in /usr/local/lib/python3.7/dist-packages (from google-auth<2,>=1.6.3->tensorboard<2.3.0,>=2.2.0->tensorflow==2.2.0) (4.7.2)\n",
            "Requirement already satisfied: zipp>=0.5 in /usr/local/lib/python3.7/dist-packages (from importlib-metadata; python_version < \"3.8\"->markdown>=2.6.8->tensorboard<2.3.0,>=2.2.0->tensorflow==2.2.0) (3.4.1)\n",
            "Requirement already satisfied: typing-extensions>=3.6.4; python_version < \"3.8\" in /usr/local/lib/python3.7/dist-packages (from importlib-metadata; python_version < \"3.8\"->markdown>=2.6.8->tensorboard<2.3.0,>=2.2.0->tensorflow==2.2.0) (3.7.4.3)\n",
            "Requirement already satisfied: oauthlib>=3.0.0 in /usr/local/lib/python3.7/dist-packages (from requests-oauthlib>=0.7.0->google-auth-oauthlib<0.5,>=0.4.1->tensorboard<2.3.0,>=2.2.0->tensorflow==2.2.0) (3.1.0)\n",
            "Requirement already satisfied: pyasn1<0.5.0,>=0.4.6 in /usr/local/lib/python3.7/dist-packages (from pyasn1-modules>=0.2.1->google-auth<2,>=1.6.3->tensorboard<2.3.0,>=2.2.0->tensorflow==2.2.0) (0.4.8)\n",
            "\u001b[31mERROR: tf-models-official 2.4.0 has requirement tensorflow>=2.4.0, but you'll have tensorflow 2.2.0 which is incompatible.\u001b[0m\n",
            "Installing collected packages: tensorboard, tensorflow-estimator, tensorflow\n",
            "  Found existing installation: tensorboard 2.5.0\n",
            "    Uninstalling tensorboard-2.5.0:\n",
            "      Successfully uninstalled tensorboard-2.5.0\n",
            "  Found existing installation: tensorflow-estimator 2.4.0\n",
            "    Uninstalling tensorflow-estimator-2.4.0:\n",
            "      Successfully uninstalled tensorflow-estimator-2.4.0\n",
            "  Found existing installation: tensorflow 2.4.1\n",
            "    Uninstalling tensorflow-2.4.1:\n",
            "      Successfully uninstalled tensorflow-2.4.1\n",
            "Successfully installed tensorboard-2.2.2 tensorflow-2.2.0 tensorflow-estimator-2.2.0\n"
          ],
          "name": "stdout"
        },
        {
          "output_type": "display_data",
          "data": {
            "application/vnd.colab-display-data+json": {
              "pip_warning": {
                "packages": [
                  "tensorboard",
                  "tensorflow",
                  "tensorflow_estimator"
                ]
              }
            }
          },
          "metadata": {
            "tags": []
          }
        }
      ]
    },
    {
      "cell_type": "code",
      "metadata": {
        "colab": {
          "base_uri": "https://localhost:8080/"
        },
        "id": "nCvVN0oueS2-",
        "outputId": "0dc63d73-bb1e-4ed9-9dc5-fd3516461ec1"
      },
      "source": [
        "# import dan print versi tensorflow\n",
        "import tensorflow as tf\n",
        "print(\"Tensorflow version: {}\".format(tf.__version__))"
      ],
      "execution_count": 50,
      "outputs": [
        {
          "output_type": "stream",
          "text": [
            "Tensorflow version: 2.2.0\n"
          ],
          "name": "stdout"
        }
      ]
    },
    {
      "cell_type": "code",
      "metadata": {
        "colab": {
          "base_uri": "https://localhost:8080/"
        },
        "id": "mGRvQUl1aIW_",
        "outputId": "3920081e-9932-4a78-85be-9d9fb90bfb5e"
      },
      "source": [
        "#run model builder test\n",
        "!python models/research/object_detection/builders/model_builder_tf2_test.py"
      ],
      "execution_count": 51,
      "outputs": [
        {
          "output_type": "stream",
          "text": [
            "Running tests under Python 3.7.10: /usr/bin/python3\n",
            "[ RUN      ] ModelBuilderTF2Test.test_create_center_net_model0 (customize_head_params=True)\n",
            "[       OK ] ModelBuilderTF2Test.test_create_center_net_model0 (customize_head_params=True)\n",
            "[ RUN      ] ModelBuilderTF2Test.test_create_center_net_model1 (customize_head_params=False)\n",
            "[       OK ] ModelBuilderTF2Test.test_create_center_net_model1 (customize_head_params=False)\n",
            "[ RUN      ] ModelBuilderTF2Test.test_create_center_net_model_from_keypoints\n",
            "[       OK ] ModelBuilderTF2Test.test_create_center_net_model_from_keypoints\n",
            "[ RUN      ] ModelBuilderTF2Test.test_create_center_net_model_mobilenet\n",
            "WARNING:tensorflow:`input_shape` is undefined or non-square, or `rows` is not in [96, 128, 160, 192, 224]. Weights for input shape (224, 224) will be loaded as the default.\n",
            "W0508 16:40:08.878272 140111304525696 mobilenet_v2.py:280] `input_shape` is undefined or non-square, or `rows` is not in [96, 128, 160, 192, 224]. Weights for input shape (224, 224) will be loaded as the default.\n",
            "2021-05-08 16:40:08.911353: I tensorflow/stream_executor/platform/default/dso_loader.cc:44] Successfully opened dynamic library libcuda.so.1\n",
            "2021-05-08 16:40:09.004112: E tensorflow/stream_executor/cuda/cuda_driver.cc:313] failed call to cuInit: CUDA_ERROR_NO_DEVICE: no CUDA-capable device is detected\n",
            "2021-05-08 16:40:09.004177: I tensorflow/stream_executor/cuda/cuda_diagnostics.cc:156] kernel driver does not appear to be running on this host (d8522afc2bcb): /proc/driver/nvidia/version does not exist\n",
            "2021-05-08 16:40:09.004638: I tensorflow/core/platform/cpu_feature_guard.cc:143] Your CPU supports instructions that this TensorFlow binary was not compiled to use: AVX2 FMA\n",
            "2021-05-08 16:40:09.011770: I tensorflow/core/platform/profile_utils/cpu_utils.cc:102] CPU Frequency: 2299995000 Hz\n",
            "2021-05-08 16:40:09.012120: I tensorflow/compiler/xla/service/service.cc:168] XLA service 0x5567b4cd0f40 initialized for platform Host (this does not guarantee that XLA will be used). Devices:\n",
            "2021-05-08 16:40:09.012164: I tensorflow/compiler/xla/service/service.cc:176]   StreamExecutor device (0): Host, Default Version\n",
            "[       OK ] ModelBuilderTF2Test.test_create_center_net_model_mobilenet\n",
            "[ RUN      ] ModelBuilderTF2Test.test_create_experimental_model\n",
            "[       OK ] ModelBuilderTF2Test.test_create_experimental_model\n",
            "[ RUN      ] ModelBuilderTF2Test.test_create_faster_rcnn_from_config_with_crop_feature0 (True)\n",
            "[       OK ] ModelBuilderTF2Test.test_create_faster_rcnn_from_config_with_crop_feature0 (True)\n",
            "[ RUN      ] ModelBuilderTF2Test.test_create_faster_rcnn_from_config_with_crop_feature1 (False)\n",
            "[       OK ] ModelBuilderTF2Test.test_create_faster_rcnn_from_config_with_crop_feature1 (False)\n",
            "[ RUN      ] ModelBuilderTF2Test.test_create_faster_rcnn_model_from_config_with_example_miner\n",
            "[       OK ] ModelBuilderTF2Test.test_create_faster_rcnn_model_from_config_with_example_miner\n",
            "[ RUN      ] ModelBuilderTF2Test.test_create_faster_rcnn_models_from_config_faster_rcnn_with_matmul\n",
            "[       OK ] ModelBuilderTF2Test.test_create_faster_rcnn_models_from_config_faster_rcnn_with_matmul\n",
            "[ RUN      ] ModelBuilderTF2Test.test_create_faster_rcnn_models_from_config_faster_rcnn_without_matmul\n",
            "[       OK ] ModelBuilderTF2Test.test_create_faster_rcnn_models_from_config_faster_rcnn_without_matmul\n",
            "[ RUN      ] ModelBuilderTF2Test.test_create_faster_rcnn_models_from_config_mask_rcnn_with_matmul\n",
            "[       OK ] ModelBuilderTF2Test.test_create_faster_rcnn_models_from_config_mask_rcnn_with_matmul\n",
            "[ RUN      ] ModelBuilderTF2Test.test_create_faster_rcnn_models_from_config_mask_rcnn_without_matmul\n",
            "[       OK ] ModelBuilderTF2Test.test_create_faster_rcnn_models_from_config_mask_rcnn_without_matmul\n",
            "[ RUN      ] ModelBuilderTF2Test.test_create_rfcn_model_from_config\n",
            "[       OK ] ModelBuilderTF2Test.test_create_rfcn_model_from_config\n",
            "[ RUN      ] ModelBuilderTF2Test.test_create_ssd_fpn_model_from_config\n",
            "[       OK ] ModelBuilderTF2Test.test_create_ssd_fpn_model_from_config\n",
            "[ RUN      ] ModelBuilderTF2Test.test_create_ssd_models_from_config\n",
            "I0508 16:40:18.984375 140111304525696 ssd_efficientnet_bifpn_feature_extractor.py:143] EfficientDet EfficientNet backbone version: efficientnet-b0\n",
            "I0508 16:40:18.984658 140111304525696 ssd_efficientnet_bifpn_feature_extractor.py:144] EfficientDet BiFPN num filters: 64\n",
            "I0508 16:40:18.984760 140111304525696 ssd_efficientnet_bifpn_feature_extractor.py:146] EfficientDet BiFPN num iterations: 3\n",
            "I0508 16:40:18.992640 140111304525696 efficientnet_model.py:147] round_filter input=32 output=32\n",
            "I0508 16:40:19.045561 140111304525696 efficientnet_model.py:147] round_filter input=32 output=32\n",
            "I0508 16:40:19.045778 140111304525696 efficientnet_model.py:147] round_filter input=16 output=16\n",
            "I0508 16:40:19.197214 140111304525696 efficientnet_model.py:147] round_filter input=16 output=16\n",
            "I0508 16:40:19.197488 140111304525696 efficientnet_model.py:147] round_filter input=24 output=24\n",
            "I0508 16:40:19.631870 140111304525696 efficientnet_model.py:147] round_filter input=24 output=24\n",
            "I0508 16:40:19.632298 140111304525696 efficientnet_model.py:147] round_filter input=40 output=40\n",
            "I0508 16:40:20.041561 140111304525696 efficientnet_model.py:147] round_filter input=40 output=40\n",
            "I0508 16:40:20.041793 140111304525696 efficientnet_model.py:147] round_filter input=80 output=80\n",
            "I0508 16:40:20.678546 140111304525696 efficientnet_model.py:147] round_filter input=80 output=80\n",
            "I0508 16:40:20.678800 140111304525696 efficientnet_model.py:147] round_filter input=112 output=112\n",
            "I0508 16:40:21.338127 140111304525696 efficientnet_model.py:147] round_filter input=112 output=112\n",
            "I0508 16:40:21.338369 140111304525696 efficientnet_model.py:147] round_filter input=192 output=192\n",
            "I0508 16:40:22.497079 140111304525696 efficientnet_model.py:147] round_filter input=192 output=192\n",
            "I0508 16:40:22.497313 140111304525696 efficientnet_model.py:147] round_filter input=320 output=320\n",
            "I0508 16:40:22.753209 140111304525696 efficientnet_model.py:147] round_filter input=1280 output=1280\n",
            "I0508 16:40:22.890449 140111304525696 efficientnet_model.py:458] Building model efficientnet with params ModelConfig(width_coefficient=1.0, depth_coefficient=1.0, resolution=224, dropout_rate=0.2, blocks=(BlockConfig(input_filters=32, output_filters=16, kernel_size=3, num_repeat=1, expand_ratio=1, strides=(1, 1), se_ratio=0.25, id_skip=True, fused_conv=False, conv_type='depthwise'), BlockConfig(input_filters=16, output_filters=24, kernel_size=3, num_repeat=2, expand_ratio=6, strides=(2, 2), se_ratio=0.25, id_skip=True, fused_conv=False, conv_type='depthwise'), BlockConfig(input_filters=24, output_filters=40, kernel_size=5, num_repeat=2, expand_ratio=6, strides=(2, 2), se_ratio=0.25, id_skip=True, fused_conv=False, conv_type='depthwise'), BlockConfig(input_filters=40, output_filters=80, kernel_size=3, num_repeat=3, expand_ratio=6, strides=(2, 2), se_ratio=0.25, id_skip=True, fused_conv=False, conv_type='depthwise'), BlockConfig(input_filters=80, output_filters=112, kernel_size=5, num_repeat=3, expand_ratio=6, strides=(1, 1), se_ratio=0.25, id_skip=True, fused_conv=False, conv_type='depthwise'), BlockConfig(input_filters=112, output_filters=192, kernel_size=5, num_repeat=4, expand_ratio=6, strides=(2, 2), se_ratio=0.25, id_skip=True, fused_conv=False, conv_type='depthwise'), BlockConfig(input_filters=192, output_filters=320, kernel_size=3, num_repeat=1, expand_ratio=6, strides=(1, 1), se_ratio=0.25, id_skip=True, fused_conv=False, conv_type='depthwise')), stem_base_filters=32, top_base_filters=1280, activation='simple_swish', batch_norm='default', bn_momentum=0.99, bn_epsilon=0.001, weight_decay=5e-06, drop_connect_rate=0.2, depth_divisor=8, min_depth=None, use_se=True, input_channels=3, num_classes=1000, model_name='efficientnet', rescale_input=False, data_format='channels_last', dtype='float32')\n",
            "I0508 16:40:22.998789 140111304525696 ssd_efficientnet_bifpn_feature_extractor.py:143] EfficientDet EfficientNet backbone version: efficientnet-b1\n",
            "I0508 16:40:22.999111 140111304525696 ssd_efficientnet_bifpn_feature_extractor.py:144] EfficientDet BiFPN num filters: 88\n",
            "I0508 16:40:22.999196 140111304525696 ssd_efficientnet_bifpn_feature_extractor.py:146] EfficientDet BiFPN num iterations: 4\n",
            "I0508 16:40:23.007597 140111304525696 efficientnet_model.py:147] round_filter input=32 output=32\n",
            "I0508 16:40:23.069503 140111304525696 efficientnet_model.py:147] round_filter input=32 output=32\n",
            "I0508 16:40:23.069779 140111304525696 efficientnet_model.py:147] round_filter input=16 output=16\n",
            "I0508 16:40:23.446224 140111304525696 efficientnet_model.py:147] round_filter input=16 output=16\n",
            "I0508 16:40:23.446518 140111304525696 efficientnet_model.py:147] round_filter input=24 output=24\n",
            "I0508 16:40:24.201769 140111304525696 efficientnet_model.py:147] round_filter input=24 output=24\n",
            "I0508 16:40:24.202131 140111304525696 efficientnet_model.py:147] round_filter input=40 output=40\n",
            "I0508 16:40:24.942790 140111304525696 efficientnet_model.py:147] round_filter input=40 output=40\n",
            "I0508 16:40:24.943160 140111304525696 efficientnet_model.py:147] round_filter input=80 output=80\n",
            "I0508 16:40:25.924293 140111304525696 efficientnet_model.py:147] round_filter input=80 output=80\n",
            "I0508 16:40:25.924584 140111304525696 efficientnet_model.py:147] round_filter input=112 output=112\n",
            "I0508 16:40:26.893839 140111304525696 efficientnet_model.py:147] round_filter input=112 output=112\n",
            "I0508 16:40:26.894133 140111304525696 efficientnet_model.py:147] round_filter input=192 output=192\n",
            "I0508 16:40:28.312409 140111304525696 efficientnet_model.py:147] round_filter input=192 output=192\n",
            "I0508 16:40:28.312652 140111304525696 efficientnet_model.py:147] round_filter input=320 output=320\n",
            "I0508 16:40:28.822617 140111304525696 efficientnet_model.py:147] round_filter input=1280 output=1280\n",
            "I0508 16:40:28.962393 140111304525696 efficientnet_model.py:458] Building model efficientnet with params ModelConfig(width_coefficient=1.0, depth_coefficient=1.1, resolution=240, dropout_rate=0.2, blocks=(BlockConfig(input_filters=32, output_filters=16, kernel_size=3, num_repeat=1, expand_ratio=1, strides=(1, 1), se_ratio=0.25, id_skip=True, fused_conv=False, conv_type='depthwise'), BlockConfig(input_filters=16, output_filters=24, kernel_size=3, num_repeat=2, expand_ratio=6, strides=(2, 2), se_ratio=0.25, id_skip=True, fused_conv=False, conv_type='depthwise'), BlockConfig(input_filters=24, output_filters=40, kernel_size=5, num_repeat=2, expand_ratio=6, strides=(2, 2), se_ratio=0.25, id_skip=True, fused_conv=False, conv_type='depthwise'), BlockConfig(input_filters=40, output_filters=80, kernel_size=3, num_repeat=3, expand_ratio=6, strides=(2, 2), se_ratio=0.25, id_skip=True, fused_conv=False, conv_type='depthwise'), BlockConfig(input_filters=80, output_filters=112, kernel_size=5, num_repeat=3, expand_ratio=6, strides=(1, 1), se_ratio=0.25, id_skip=True, fused_conv=False, conv_type='depthwise'), BlockConfig(input_filters=112, output_filters=192, kernel_size=5, num_repeat=4, expand_ratio=6, strides=(2, 2), se_ratio=0.25, id_skip=True, fused_conv=False, conv_type='depthwise'), BlockConfig(input_filters=192, output_filters=320, kernel_size=3, num_repeat=1, expand_ratio=6, strides=(1, 1), se_ratio=0.25, id_skip=True, fused_conv=False, conv_type='depthwise')), stem_base_filters=32, top_base_filters=1280, activation='simple_swish', batch_norm='default', bn_momentum=0.99, bn_epsilon=0.001, weight_decay=5e-06, drop_connect_rate=0.2, depth_divisor=8, min_depth=None, use_se=True, input_channels=3, num_classes=1000, model_name='efficientnet', rescale_input=False, data_format='channels_last', dtype='float32')\n",
            "I0508 16:40:29.110342 140111304525696 ssd_efficientnet_bifpn_feature_extractor.py:143] EfficientDet EfficientNet backbone version: efficientnet-b2\n",
            "I0508 16:40:29.110876 140111304525696 ssd_efficientnet_bifpn_feature_extractor.py:144] EfficientDet BiFPN num filters: 112\n",
            "I0508 16:40:29.111139 140111304525696 ssd_efficientnet_bifpn_feature_extractor.py:146] EfficientDet BiFPN num iterations: 5\n",
            "I0508 16:40:29.122895 140111304525696 efficientnet_model.py:147] round_filter input=32 output=32\n",
            "I0508 16:40:29.193162 140111304525696 efficientnet_model.py:147] round_filter input=32 output=32\n",
            "I0508 16:40:29.193428 140111304525696 efficientnet_model.py:147] round_filter input=16 output=16\n",
            "I0508 16:40:29.587570 140111304525696 efficientnet_model.py:147] round_filter input=16 output=16\n",
            "I0508 16:40:29.587897 140111304525696 efficientnet_model.py:147] round_filter input=24 output=24\n",
            "I0508 16:40:30.338123 140111304525696 efficientnet_model.py:147] round_filter input=24 output=24\n",
            "I0508 16:40:30.338435 140111304525696 efficientnet_model.py:147] round_filter input=40 output=48\n",
            "I0508 16:40:31.102826 140111304525696 efficientnet_model.py:147] round_filter input=40 output=48\n",
            "I0508 16:40:31.103147 140111304525696 efficientnet_model.py:147] round_filter input=80 output=88\n",
            "I0508 16:40:32.102582 140111304525696 efficientnet_model.py:147] round_filter input=80 output=88\n",
            "I0508 16:40:32.102866 140111304525696 efficientnet_model.py:147] round_filter input=112 output=120\n",
            "I0508 16:40:33.089966 140111304525696 efficientnet_model.py:147] round_filter input=112 output=120\n",
            "I0508 16:40:33.090322 140111304525696 efficientnet_model.py:147] round_filter input=192 output=208\n",
            "I0508 16:40:34.410726 140111304525696 efficientnet_model.py:147] round_filter input=192 output=208\n",
            "I0508 16:40:34.411024 140111304525696 efficientnet_model.py:147] round_filter input=320 output=352\n",
            "I0508 16:40:34.931067 140111304525696 efficientnet_model.py:147] round_filter input=1280 output=1408\n",
            "I0508 16:40:35.042582 140111304525696 efficientnet_model.py:458] Building model efficientnet with params ModelConfig(width_coefficient=1.1, depth_coefficient=1.2, resolution=260, dropout_rate=0.3, blocks=(BlockConfig(input_filters=32, output_filters=16, kernel_size=3, num_repeat=1, expand_ratio=1, strides=(1, 1), se_ratio=0.25, id_skip=True, fused_conv=False, conv_type='depthwise'), BlockConfig(input_filters=16, output_filters=24, kernel_size=3, num_repeat=2, expand_ratio=6, strides=(2, 2), se_ratio=0.25, id_skip=True, fused_conv=False, conv_type='depthwise'), BlockConfig(input_filters=24, output_filters=40, kernel_size=5, num_repeat=2, expand_ratio=6, strides=(2, 2), se_ratio=0.25, id_skip=True, fused_conv=False, conv_type='depthwise'), BlockConfig(input_filters=40, output_filters=80, kernel_size=3, num_repeat=3, expand_ratio=6, strides=(2, 2), se_ratio=0.25, id_skip=True, fused_conv=False, conv_type='depthwise'), BlockConfig(input_filters=80, output_filters=112, kernel_size=5, num_repeat=3, expand_ratio=6, strides=(1, 1), se_ratio=0.25, id_skip=True, fused_conv=False, conv_type='depthwise'), BlockConfig(input_filters=112, output_filters=192, kernel_size=5, num_repeat=4, expand_ratio=6, strides=(2, 2), se_ratio=0.25, id_skip=True, fused_conv=False, conv_type='depthwise'), BlockConfig(input_filters=192, output_filters=320, kernel_size=3, num_repeat=1, expand_ratio=6, strides=(1, 1), se_ratio=0.25, id_skip=True, fused_conv=False, conv_type='depthwise')), stem_base_filters=32, top_base_filters=1280, activation='simple_swish', batch_norm='default', bn_momentum=0.99, bn_epsilon=0.001, weight_decay=5e-06, drop_connect_rate=0.2, depth_divisor=8, min_depth=None, use_se=True, input_channels=3, num_classes=1000, model_name='efficientnet', rescale_input=False, data_format='channels_last', dtype='float32')\n",
            "I0508 16:40:35.173070 140111304525696 ssd_efficientnet_bifpn_feature_extractor.py:143] EfficientDet EfficientNet backbone version: efficientnet-b3\n",
            "I0508 16:40:35.173333 140111304525696 ssd_efficientnet_bifpn_feature_extractor.py:144] EfficientDet BiFPN num filters: 160\n",
            "I0508 16:40:35.173445 140111304525696 ssd_efficientnet_bifpn_feature_extractor.py:146] EfficientDet BiFPN num iterations: 6\n",
            "I0508 16:40:35.181140 140111304525696 efficientnet_model.py:147] round_filter input=32 output=40\n",
            "I0508 16:40:35.529582 140111304525696 efficientnet_model.py:147] round_filter input=32 output=40\n",
            "I0508 16:40:35.529831 140111304525696 efficientnet_model.py:147] round_filter input=16 output=24\n",
            "I0508 16:40:35.866732 140111304525696 efficientnet_model.py:147] round_filter input=16 output=24\n",
            "I0508 16:40:35.867062 140111304525696 efficientnet_model.py:147] round_filter input=24 output=32\n",
            "I0508 16:40:36.623024 140111304525696 efficientnet_model.py:147] round_filter input=24 output=32\n",
            "I0508 16:40:36.623349 140111304525696 efficientnet_model.py:147] round_filter input=40 output=48\n",
            "I0508 16:40:37.386798 140111304525696 efficientnet_model.py:147] round_filter input=40 output=48\n",
            "I0508 16:40:37.387136 140111304525696 efficientnet_model.py:147] round_filter input=80 output=96\n",
            "I0508 16:40:38.670427 140111304525696 efficientnet_model.py:147] round_filter input=80 output=96\n",
            "I0508 16:40:38.670699 140111304525696 efficientnet_model.py:147] round_filter input=112 output=136\n",
            "I0508 16:40:40.019953 140111304525696 efficientnet_model.py:147] round_filter input=112 output=136\n",
            "I0508 16:40:40.020214 140111304525696 efficientnet_model.py:147] round_filter input=192 output=232\n",
            "I0508 16:40:41.552504 140111304525696 efficientnet_model.py:147] round_filter input=192 output=232\n",
            "I0508 16:40:41.552763 140111304525696 efficientnet_model.py:147] round_filter input=320 output=384\n",
            "I0508 16:40:42.087336 140111304525696 efficientnet_model.py:147] round_filter input=1280 output=1536\n",
            "I0508 16:40:42.205356 140111304525696 efficientnet_model.py:458] Building model efficientnet with params ModelConfig(width_coefficient=1.2, depth_coefficient=1.4, resolution=300, dropout_rate=0.3, blocks=(BlockConfig(input_filters=32, output_filters=16, kernel_size=3, num_repeat=1, expand_ratio=1, strides=(1, 1), se_ratio=0.25, id_skip=True, fused_conv=False, conv_type='depthwise'), BlockConfig(input_filters=16, output_filters=24, kernel_size=3, num_repeat=2, expand_ratio=6, strides=(2, 2), se_ratio=0.25, id_skip=True, fused_conv=False, conv_type='depthwise'), BlockConfig(input_filters=24, output_filters=40, kernel_size=5, num_repeat=2, expand_ratio=6, strides=(2, 2), se_ratio=0.25, id_skip=True, fused_conv=False, conv_type='depthwise'), BlockConfig(input_filters=40, output_filters=80, kernel_size=3, num_repeat=3, expand_ratio=6, strides=(2, 2), se_ratio=0.25, id_skip=True, fused_conv=False, conv_type='depthwise'), BlockConfig(input_filters=80, output_filters=112, kernel_size=5, num_repeat=3, expand_ratio=6, strides=(1, 1), se_ratio=0.25, id_skip=True, fused_conv=False, conv_type='depthwise'), BlockConfig(input_filters=112, output_filters=192, kernel_size=5, num_repeat=4, expand_ratio=6, strides=(2, 2), se_ratio=0.25, id_skip=True, fused_conv=False, conv_type='depthwise'), BlockConfig(input_filters=192, output_filters=320, kernel_size=3, num_repeat=1, expand_ratio=6, strides=(1, 1), se_ratio=0.25, id_skip=True, fused_conv=False, conv_type='depthwise')), stem_base_filters=32, top_base_filters=1280, activation='simple_swish', batch_norm='default', bn_momentum=0.99, bn_epsilon=0.001, weight_decay=5e-06, drop_connect_rate=0.2, depth_divisor=8, min_depth=None, use_se=True, input_channels=3, num_classes=1000, model_name='efficientnet', rescale_input=False, data_format='channels_last', dtype='float32')\n",
            "I0508 16:40:42.345375 140111304525696 ssd_efficientnet_bifpn_feature_extractor.py:143] EfficientDet EfficientNet backbone version: efficientnet-b4\n",
            "I0508 16:40:42.345624 140111304525696 ssd_efficientnet_bifpn_feature_extractor.py:144] EfficientDet BiFPN num filters: 224\n",
            "I0508 16:40:42.345693 140111304525696 ssd_efficientnet_bifpn_feature_extractor.py:146] EfficientDet BiFPN num iterations: 7\n",
            "I0508 16:40:42.353741 140111304525696 efficientnet_model.py:147] round_filter input=32 output=48\n",
            "I0508 16:40:42.413644 140111304525696 efficientnet_model.py:147] round_filter input=32 output=48\n",
            "I0508 16:40:42.413868 140111304525696 efficientnet_model.py:147] round_filter input=16 output=24\n",
            "I0508 16:40:42.743790 140111304525696 efficientnet_model.py:147] round_filter input=16 output=24\n",
            "I0508 16:40:42.744025 140111304525696 efficientnet_model.py:147] round_filter input=24 output=32\n",
            "I0508 16:40:43.676100 140111304525696 efficientnet_model.py:147] round_filter input=24 output=32\n",
            "I0508 16:40:43.676334 140111304525696 efficientnet_model.py:147] round_filter input=40 output=56\n",
            "I0508 16:40:44.987599 140111304525696 efficientnet_model.py:147] round_filter input=40 output=56\n",
            "I0508 16:40:44.987831 140111304525696 efficientnet_model.py:147] round_filter input=80 output=112\n",
            "I0508 16:40:46.516306 140111304525696 efficientnet_model.py:147] round_filter input=80 output=112\n",
            "I0508 16:40:46.516655 140111304525696 efficientnet_model.py:147] round_filter input=112 output=160\n",
            "I0508 16:40:48.079841 140111304525696 efficientnet_model.py:147] round_filter input=112 output=160\n",
            "I0508 16:40:48.080141 140111304525696 efficientnet_model.py:147] round_filter input=192 output=272\n",
            "I0508 16:40:50.415815 140111304525696 efficientnet_model.py:147] round_filter input=192 output=272\n",
            "I0508 16:40:50.416059 140111304525696 efficientnet_model.py:147] round_filter input=320 output=448\n",
            "I0508 16:40:50.973076 140111304525696 efficientnet_model.py:147] round_filter input=1280 output=1792\n",
            "I0508 16:40:51.118453 140111304525696 efficientnet_model.py:458] Building model efficientnet with params ModelConfig(width_coefficient=1.4, depth_coefficient=1.8, resolution=380, dropout_rate=0.4, blocks=(BlockConfig(input_filters=32, output_filters=16, kernel_size=3, num_repeat=1, expand_ratio=1, strides=(1, 1), se_ratio=0.25, id_skip=True, fused_conv=False, conv_type='depthwise'), BlockConfig(input_filters=16, output_filters=24, kernel_size=3, num_repeat=2, expand_ratio=6, strides=(2, 2), se_ratio=0.25, id_skip=True, fused_conv=False, conv_type='depthwise'), BlockConfig(input_filters=24, output_filters=40, kernel_size=5, num_repeat=2, expand_ratio=6, strides=(2, 2), se_ratio=0.25, id_skip=True, fused_conv=False, conv_type='depthwise'), BlockConfig(input_filters=40, output_filters=80, kernel_size=3, num_repeat=3, expand_ratio=6, strides=(2, 2), se_ratio=0.25, id_skip=True, fused_conv=False, conv_type='depthwise'), BlockConfig(input_filters=80, output_filters=112, kernel_size=5, num_repeat=3, expand_ratio=6, strides=(1, 1), se_ratio=0.25, id_skip=True, fused_conv=False, conv_type='depthwise'), BlockConfig(input_filters=112, output_filters=192, kernel_size=5, num_repeat=4, expand_ratio=6, strides=(2, 2), se_ratio=0.25, id_skip=True, fused_conv=False, conv_type='depthwise'), BlockConfig(input_filters=192, output_filters=320, kernel_size=3, num_repeat=1, expand_ratio=6, strides=(1, 1), se_ratio=0.25, id_skip=True, fused_conv=False, conv_type='depthwise')), stem_base_filters=32, top_base_filters=1280, activation='simple_swish', batch_norm='default', bn_momentum=0.99, bn_epsilon=0.001, weight_decay=5e-06, drop_connect_rate=0.2, depth_divisor=8, min_depth=None, use_se=True, input_channels=3, num_classes=1000, model_name='efficientnet', rescale_input=False, data_format='channels_last', dtype='float32')\n",
            "I0508 16:40:51.294377 140111304525696 ssd_efficientnet_bifpn_feature_extractor.py:143] EfficientDet EfficientNet backbone version: efficientnet-b5\n",
            "I0508 16:40:51.294700 140111304525696 ssd_efficientnet_bifpn_feature_extractor.py:144] EfficientDet BiFPN num filters: 288\n",
            "I0508 16:40:51.294803 140111304525696 ssd_efficientnet_bifpn_feature_extractor.py:146] EfficientDet BiFPN num iterations: 7\n",
            "I0508 16:40:51.302729 140111304525696 efficientnet_model.py:147] round_filter input=32 output=48\n",
            "I0508 16:40:51.366795 140111304525696 efficientnet_model.py:147] round_filter input=32 output=48\n",
            "I0508 16:40:51.367124 140111304525696 efficientnet_model.py:147] round_filter input=16 output=24\n",
            "I0508 16:40:51.987327 140111304525696 efficientnet_model.py:147] round_filter input=16 output=24\n",
            "I0508 16:40:51.987639 140111304525696 efficientnet_model.py:147] round_filter input=24 output=40\n",
            "I0508 16:40:53.248368 140111304525696 efficientnet_model.py:147] round_filter input=24 output=40\n",
            "I0508 16:40:53.248671 140111304525696 efficientnet_model.py:147] round_filter input=40 output=64\n",
            "I0508 16:40:54.503902 140111304525696 efficientnet_model.py:147] round_filter input=40 output=64\n",
            "I0508 16:40:54.504223 140111304525696 efficientnet_model.py:147] round_filter input=80 output=128\n",
            "I0508 16:40:56.734360 140111304525696 efficientnet_model.py:147] round_filter input=80 output=128\n",
            "I0508 16:40:56.734605 140111304525696 efficientnet_model.py:147] round_filter input=112 output=176\n",
            "I0508 16:40:58.704680 140111304525696 efficientnet_model.py:147] round_filter input=112 output=176\n",
            "I0508 16:40:58.705012 140111304525696 efficientnet_model.py:147] round_filter input=192 output=304\n",
            "I0508 16:41:01.708870 140111304525696 efficientnet_model.py:147] round_filter input=192 output=304\n",
            "I0508 16:41:01.709210 140111304525696 efficientnet_model.py:147] round_filter input=320 output=512\n",
            "I0508 16:41:02.880214 140111304525696 efficientnet_model.py:147] round_filter input=1280 output=2048\n",
            "I0508 16:41:03.048163 140111304525696 efficientnet_model.py:458] Building model efficientnet with params ModelConfig(width_coefficient=1.6, depth_coefficient=2.2, resolution=456, dropout_rate=0.4, blocks=(BlockConfig(input_filters=32, output_filters=16, kernel_size=3, num_repeat=1, expand_ratio=1, strides=(1, 1), se_ratio=0.25, id_skip=True, fused_conv=False, conv_type='depthwise'), BlockConfig(input_filters=16, output_filters=24, kernel_size=3, num_repeat=2, expand_ratio=6, strides=(2, 2), se_ratio=0.25, id_skip=True, fused_conv=False, conv_type='depthwise'), BlockConfig(input_filters=24, output_filters=40, kernel_size=5, num_repeat=2, expand_ratio=6, strides=(2, 2), se_ratio=0.25, id_skip=True, fused_conv=False, conv_type='depthwise'), BlockConfig(input_filters=40, output_filters=80, kernel_size=3, num_repeat=3, expand_ratio=6, strides=(2, 2), se_ratio=0.25, id_skip=True, fused_conv=False, conv_type='depthwise'), BlockConfig(input_filters=80, output_filters=112, kernel_size=5, num_repeat=3, expand_ratio=6, strides=(1, 1), se_ratio=0.25, id_skip=True, fused_conv=False, conv_type='depthwise'), BlockConfig(input_filters=112, output_filters=192, kernel_size=5, num_repeat=4, expand_ratio=6, strides=(2, 2), se_ratio=0.25, id_skip=True, fused_conv=False, conv_type='depthwise'), BlockConfig(input_filters=192, output_filters=320, kernel_size=3, num_repeat=1, expand_ratio=6, strides=(1, 1), se_ratio=0.25, id_skip=True, fused_conv=False, conv_type='depthwise')), stem_base_filters=32, top_base_filters=1280, activation='simple_swish', batch_norm='default', bn_momentum=0.99, bn_epsilon=0.001, weight_decay=5e-06, drop_connect_rate=0.2, depth_divisor=8, min_depth=None, use_se=True, input_channels=3, num_classes=1000, model_name='efficientnet', rescale_input=False, data_format='channels_last', dtype='float32')\n",
            "I0508 16:41:03.278973 140111304525696 ssd_efficientnet_bifpn_feature_extractor.py:143] EfficientDet EfficientNet backbone version: efficientnet-b6\n",
            "I0508 16:41:03.279308 140111304525696 ssd_efficientnet_bifpn_feature_extractor.py:144] EfficientDet BiFPN num filters: 384\n",
            "I0508 16:41:03.279382 140111304525696 ssd_efficientnet_bifpn_feature_extractor.py:146] EfficientDet BiFPN num iterations: 8\n",
            "I0508 16:41:03.287598 140111304525696 efficientnet_model.py:147] round_filter input=32 output=56\n",
            "I0508 16:41:03.352572 140111304525696 efficientnet_model.py:147] round_filter input=32 output=56\n",
            "I0508 16:41:03.352849 140111304525696 efficientnet_model.py:147] round_filter input=16 output=32\n",
            "I0508 16:41:04.000199 140111304525696 efficientnet_model.py:147] round_filter input=16 output=32\n",
            "I0508 16:41:04.000503 140111304525696 efficientnet_model.py:147] round_filter input=24 output=40\n",
            "I0508 16:41:05.717767 140111304525696 efficientnet_model.py:147] round_filter input=24 output=40\n",
            "I0508 16:41:05.718075 140111304525696 efficientnet_model.py:147] round_filter input=40 output=72\n",
            "I0508 16:41:07.412093 140111304525696 efficientnet_model.py:147] round_filter input=40 output=72\n",
            "I0508 16:41:07.412380 140111304525696 efficientnet_model.py:147] round_filter input=80 output=144\n",
            "I0508 16:41:09.707941 140111304525696 efficientnet_model.py:147] round_filter input=80 output=144\n",
            "I0508 16:41:09.708227 140111304525696 efficientnet_model.py:147] round_filter input=112 output=200\n",
            "I0508 16:41:12.076760 140111304525696 efficientnet_model.py:147] round_filter input=112 output=200\n",
            "I0508 16:41:12.077082 140111304525696 efficientnet_model.py:147] round_filter input=192 output=344\n",
            "I0508 16:41:16.704011 140111304525696 efficientnet_model.py:147] round_filter input=192 output=344\n",
            "I0508 16:41:16.704360 140111304525696 efficientnet_model.py:147] round_filter input=320 output=576\n",
            "I0508 16:41:17.965985 140111304525696 efficientnet_model.py:147] round_filter input=1280 output=2304\n",
            "I0508 16:41:18.133936 140111304525696 efficientnet_model.py:458] Building model efficientnet with params ModelConfig(width_coefficient=1.8, depth_coefficient=2.6, resolution=528, dropout_rate=0.5, blocks=(BlockConfig(input_filters=32, output_filters=16, kernel_size=3, num_repeat=1, expand_ratio=1, strides=(1, 1), se_ratio=0.25, id_skip=True, fused_conv=False, conv_type='depthwise'), BlockConfig(input_filters=16, output_filters=24, kernel_size=3, num_repeat=2, expand_ratio=6, strides=(2, 2), se_ratio=0.25, id_skip=True, fused_conv=False, conv_type='depthwise'), BlockConfig(input_filters=24, output_filters=40, kernel_size=5, num_repeat=2, expand_ratio=6, strides=(2, 2), se_ratio=0.25, id_skip=True, fused_conv=False, conv_type='depthwise'), BlockConfig(input_filters=40, output_filters=80, kernel_size=3, num_repeat=3, expand_ratio=6, strides=(2, 2), se_ratio=0.25, id_skip=True, fused_conv=False, conv_type='depthwise'), BlockConfig(input_filters=80, output_filters=112, kernel_size=5, num_repeat=3, expand_ratio=6, strides=(1, 1), se_ratio=0.25, id_skip=True, fused_conv=False, conv_type='depthwise'), BlockConfig(input_filters=112, output_filters=192, kernel_size=5, num_repeat=4, expand_ratio=6, strides=(2, 2), se_ratio=0.25, id_skip=True, fused_conv=False, conv_type='depthwise'), BlockConfig(input_filters=192, output_filters=320, kernel_size=3, num_repeat=1, expand_ratio=6, strides=(1, 1), se_ratio=0.25, id_skip=True, fused_conv=False, conv_type='depthwise')), stem_base_filters=32, top_base_filters=1280, activation='simple_swish', batch_norm='default', bn_momentum=0.99, bn_epsilon=0.001, weight_decay=5e-06, drop_connect_rate=0.2, depth_divisor=8, min_depth=None, use_se=True, input_channels=3, num_classes=1000, model_name='efficientnet', rescale_input=False, data_format='channels_last', dtype='float32')\n",
            "I0508 16:41:18.360446 140111304525696 ssd_efficientnet_bifpn_feature_extractor.py:143] EfficientDet EfficientNet backbone version: efficientnet-b7\n",
            "I0508 16:41:18.360711 140111304525696 ssd_efficientnet_bifpn_feature_extractor.py:144] EfficientDet BiFPN num filters: 384\n",
            "I0508 16:41:18.360783 140111304525696 ssd_efficientnet_bifpn_feature_extractor.py:146] EfficientDet BiFPN num iterations: 8\n",
            "I0508 16:41:18.369116 140111304525696 efficientnet_model.py:147] round_filter input=32 output=64\n",
            "I0508 16:41:18.435626 140111304525696 efficientnet_model.py:147] round_filter input=32 output=64\n",
            "I0508 16:41:18.435904 140111304525696 efficientnet_model.py:147] round_filter input=16 output=32\n",
            "I0508 16:41:19.436314 140111304525696 efficientnet_model.py:147] round_filter input=16 output=32\n",
            "I0508 16:41:19.436638 140111304525696 efficientnet_model.py:147] round_filter input=24 output=48\n",
            "I0508 16:41:21.536136 140111304525696 efficientnet_model.py:147] round_filter input=24 output=48\n",
            "I0508 16:41:21.536426 140111304525696 efficientnet_model.py:147] round_filter input=40 output=80\n",
            "I0508 16:41:23.746816 140111304525696 efficientnet_model.py:147] round_filter input=40 output=80\n",
            "I0508 16:41:23.747093 140111304525696 efficientnet_model.py:147] round_filter input=80 output=160\n",
            "I0508 16:41:26.826277 140111304525696 efficientnet_model.py:147] round_filter input=80 output=160\n",
            "I0508 16:41:26.826525 140111304525696 efficientnet_model.py:147] round_filter input=112 output=224\n",
            "I0508 16:41:30.005668 140111304525696 efficientnet_model.py:147] round_filter input=112 output=224\n",
            "I0508 16:41:30.005950 140111304525696 efficientnet_model.py:147] round_filter input=192 output=384\n",
            "I0508 16:41:35.648767 140111304525696 efficientnet_model.py:147] round_filter input=192 output=384\n",
            "I0508 16:41:35.649044 140111304525696 efficientnet_model.py:147] round_filter input=320 output=640\n",
            "I0508 16:41:37.523647 140111304525696 efficientnet_model.py:147] round_filter input=1280 output=2560\n",
            "I0508 16:41:37.707770 140111304525696 efficientnet_model.py:458] Building model efficientnet with params ModelConfig(width_coefficient=2.0, depth_coefficient=3.1, resolution=600, dropout_rate=0.5, blocks=(BlockConfig(input_filters=32, output_filters=16, kernel_size=3, num_repeat=1, expand_ratio=1, strides=(1, 1), se_ratio=0.25, id_skip=True, fused_conv=False, conv_type='depthwise'), BlockConfig(input_filters=16, output_filters=24, kernel_size=3, num_repeat=2, expand_ratio=6, strides=(2, 2), se_ratio=0.25, id_skip=True, fused_conv=False, conv_type='depthwise'), BlockConfig(input_filters=24, output_filters=40, kernel_size=5, num_repeat=2, expand_ratio=6, strides=(2, 2), se_ratio=0.25, id_skip=True, fused_conv=False, conv_type='depthwise'), BlockConfig(input_filters=40, output_filters=80, kernel_size=3, num_repeat=3, expand_ratio=6, strides=(2, 2), se_ratio=0.25, id_skip=True, fused_conv=False, conv_type='depthwise'), BlockConfig(input_filters=80, output_filters=112, kernel_size=5, num_repeat=3, expand_ratio=6, strides=(1, 1), se_ratio=0.25, id_skip=True, fused_conv=False, conv_type='depthwise'), BlockConfig(input_filters=112, output_filters=192, kernel_size=5, num_repeat=4, expand_ratio=6, strides=(2, 2), se_ratio=0.25, id_skip=True, fused_conv=False, conv_type='depthwise'), BlockConfig(input_filters=192, output_filters=320, kernel_size=3, num_repeat=1, expand_ratio=6, strides=(1, 1), se_ratio=0.25, id_skip=True, fused_conv=False, conv_type='depthwise')), stem_base_filters=32, top_base_filters=1280, activation='simple_swish', batch_norm='default', bn_momentum=0.99, bn_epsilon=0.001, weight_decay=5e-06, drop_connect_rate=0.2, depth_divisor=8, min_depth=None, use_se=True, input_channels=3, num_classes=1000, model_name='efficientnet', rescale_input=False, data_format='channels_last', dtype='float32')\n",
            "[       OK ] ModelBuilderTF2Test.test_create_ssd_models_from_config\n",
            "[ RUN      ] ModelBuilderTF2Test.test_invalid_faster_rcnn_batchnorm_update\n",
            "[       OK ] ModelBuilderTF2Test.test_invalid_faster_rcnn_batchnorm_update\n",
            "[ RUN      ] ModelBuilderTF2Test.test_invalid_first_stage_nms_iou_threshold\n",
            "[       OK ] ModelBuilderTF2Test.test_invalid_first_stage_nms_iou_threshold\n",
            "[ RUN      ] ModelBuilderTF2Test.test_invalid_model_config_proto\n",
            "[       OK ] ModelBuilderTF2Test.test_invalid_model_config_proto\n",
            "[ RUN      ] ModelBuilderTF2Test.test_invalid_second_stage_batch_size\n",
            "[       OK ] ModelBuilderTF2Test.test_invalid_second_stage_batch_size\n",
            "[ RUN      ] ModelBuilderTF2Test.test_session\n",
            "[  SKIPPED ] ModelBuilderTF2Test.test_session\n",
            "[ RUN      ] ModelBuilderTF2Test.test_unknown_faster_rcnn_feature_extractor\n",
            "[       OK ] ModelBuilderTF2Test.test_unknown_faster_rcnn_feature_extractor\n",
            "[ RUN      ] ModelBuilderTF2Test.test_unknown_meta_architecture\n",
            "[       OK ] ModelBuilderTF2Test.test_unknown_meta_architecture\n",
            "[ RUN      ] ModelBuilderTF2Test.test_unknown_ssd_feature_extractor\n",
            "[       OK ] ModelBuilderTF2Test.test_unknown_ssd_feature_extractor\n",
            "----------------------------------------------------------------------\n",
            "Ran 23 tests in 90.976s\n",
            "\n",
            "OK (skipped=1)\n"
          ],
          "name": "stdout"
        }
      ]
    },
    {
      "cell_type": "code",
      "metadata": {
        "id": "eBFOAarYekIR"
      },
      "source": [
        "# persiapan folder training\n",
        "workspace = 'workspace'\n",
        "training_demo = os.path.join(workspace, 'training_demo')\n",
        "annotations = os.path.join(training_demo, 'annotations') # saving label_map.pbtxt\n",
        "exported_models = os.path.join(training_demo, 'exported_models')\n",
        "images = os.path.join(training_demo, 'images')\n",
        "test = os.path.join(images, 'test')\n",
        "train = os.path.join(images, 'train')\n",
        "models = os.path.join(training_demo, 'models')\n",
        "pre_trained_models = os.path.join(training_demo, 'pre_trained_models')\n",
        "\n",
        "if not os.path.exists(workspace):\n",
        "  os.makedirs(workspace)\n",
        "  os.makedirs(training_demo)\n",
        "  os.makedirs(annotations)\n",
        "  os.makedirs(exported_models)\n",
        "  os.makedirs(images)\n",
        "  os.makedirs(test)\n",
        "  os.makedirs(train)\n",
        "  os.makedirs(models)\n",
        "  os.makedirs(pre_trained_models)\n",
        "\n",
        "# persiapan folder scripts\n",
        "scripts = 'scripts'\n",
        "if not os.path.exists(scripts):\n",
        "  os.makedirs(scripts)\n",
        "  os.makedirs(os.path.join(scripts, 'preprocessing'))\n"
      ],
      "execution_count": 52,
      "outputs": []
    },
    {
      "cell_type": "code",
      "metadata": {
        "id": "QXcqqiOe1Bgk"
      },
      "source": [
        "# Data Preparation\n",
        "# from google.colab import drive\n",
        "# drive.mount('/gdrive')\n",
        "\n",
        "# only for google colab\n",
        "import os\n",
        "os.environ['KAGGLE_USERNAME'] = \"didiruh\" \n",
        "os.environ['KAGGLE_KEY'] = \"fbaf0cae973329af03e018de237ea52f\""
      ],
      "execution_count": 53,
      "outputs": []
    },
    {
      "cell_type": "code",
      "metadata": {
        "colab": {
          "base_uri": "https://localhost:8080/"
        },
        "id": "Xf9jTVao2HVx",
        "outputId": "7e9f81f3-1915-484c-ab90-2979f7a5e323"
      },
      "source": [
        "!kaggle datasets download -d andrewmvd/face-mask-detection"
      ],
      "execution_count": 54,
      "outputs": [
        {
          "output_type": "stream",
          "text": [
            "Downloading face-mask-detection.zip to /\n",
            " 95% 379M/398M [00:03<00:00, 81.8MB/s]\n",
            "100% 398M/398M [00:03<00:00, 108MB/s] \n"
          ],
          "name": "stdout"
        }
      ]
    },
    {
      "cell_type": "code",
      "metadata": {
        "id": "v-Axc7cE3E91"
      },
      "source": [
        "!unzip /face-mask-detection.zip -d /workspace/training_demo/images"
      ],
      "execution_count": null,
      "outputs": []
    },
    {
      "cell_type": "code",
      "metadata": {
        "id": "s_p4d3ig3dfH"
      },
      "source": [
        "# move images file to direcotry 'images'\n",
        "import shutil\n",
        "import os\n",
        "    \n",
        "source_dir = '/workspace/training_demo/images/images'\n",
        "target_dir = '/workspace/training_demo/images'\n",
        "    \n",
        "file_names = os.listdir(source_dir)\n",
        "    \n",
        "for file_name in file_names:\n",
        "    shutil.move(os.path.join(source_dir, file_name), target_dir)"
      ],
      "execution_count": 60,
      "outputs": []
    },
    {
      "cell_type": "code",
      "metadata": {
        "id": "6_aOQsD74rvq"
      },
      "source": [
        "# move annotaions file to directory 'images'\n",
        "source_dir_ann = '/workspace/training_demo/images/annotations'\n",
        "target_dir_ann = '/workspace/training_demo/images'\n",
        "    \n",
        "file_names = os.listdir(source_dir_ann)\n",
        "    \n",
        "for file_name in file_names:\n",
        "    shutil.move(os.path.join(source_dir_ann, file_name), target_dir_ann)"
      ],
      "execution_count": 61,
      "outputs": []
    },
    {
      "cell_type": "markdown",
      "metadata": {
        "id": "YXMaO-gHruh2"
      },
      "source": [
        "# Partition Dataset"
      ]
    },
    {
      "cell_type": "code",
      "metadata": {
        "colab": {
          "base_uri": "https://localhost:8080/"
        },
        "id": "jsedVVOf9uPn",
        "outputId": "60dd42b5-f79c-4717-9664-2814f174b6fe"
      },
      "source": [
        "# clone label_map.pbtxt\n",
        "%%bash\n",
        "cd /workspace/training_demo/annotations\n",
        "wget https://raw.githubusercontent.com/didiruhyadi/SiliragungNet-Model/main/annotations/label_map.pbtxt"
      ],
      "execution_count": 82,
      "outputs": [
        {
          "output_type": "stream",
          "text": [
            "--2021-05-08 17:36:04--  https://raw.githubusercontent.com/didiruhyadi/SiliragungNet-Model/main/annotations/label_map.pbtxt\n",
            "Resolving raw.githubusercontent.com (raw.githubusercontent.com)... 185.199.108.133, 185.199.109.133, 185.199.110.133, ...\n",
            "Connecting to raw.githubusercontent.com (raw.githubusercontent.com)|185.199.108.133|:443... connected.\n",
            "HTTP request sent, awaiting response... 200 OK\n",
            "Length: 137 [text/plain]\n",
            "Saving to: ‘label_map.pbtxt’\n",
            "\n",
            "     0K                                                       100% 5.99M=0s\n",
            "\n",
            "2021-05-08 17:36:04 (5.99 MB/s) - ‘label_map.pbtxt’ saved [137/137]\n",
            "\n"
          ],
          "name": "stderr"
        }
      ]
    },
    {
      "cell_type": "code",
      "metadata": {
        "colab": {
          "base_uri": "https://localhost:8080/"
        },
        "id": "E2QjDI1UkKR6",
        "outputId": "9494f68e-7179-4cdd-9c8a-0c0b3526ad81"
      },
      "source": [
        "# get partition_dataset.py\n",
        "%%bash\n",
        "cd /scripts/preprocessing\n",
        "wget https://raw.githubusercontent.com/didiruhyadi/SiliragungNet-Model/main/scripts/preprocessing/partition_dataset.py"
      ],
      "execution_count": 68,
      "outputs": [
        {
          "output_type": "stream",
          "text": [
            "--2021-05-08 16:56:18--  https://raw.githubusercontent.com/didiruhyadi/SiliragungNet-Model/main/scripts/preprocessing/partition_dataset.py\n",
            "Resolving raw.githubusercontent.com (raw.githubusercontent.com)... 185.199.108.133, 185.199.109.133, 185.199.111.133, ...\n",
            "Connecting to raw.githubusercontent.com (raw.githubusercontent.com)|185.199.108.133|:443... connected.\n",
            "HTTP request sent, awaiting response... 200 OK\n",
            "Length: 3577 (3.5K) [text/plain]\n",
            "Saving to: ‘partition_dataset.py’\n",
            "\n",
            "     0K ...                                                   100% 29.3M=0s\n",
            "\n",
            "2021-05-08 16:56:19 (29.3 MB/s) - ‘partition_dataset.py’ saved [3577/3577]\n",
            "\n"
          ],
          "name": "stderr"
        }
      ]
    },
    {
      "cell_type": "code",
      "metadata": {
        "id": "AhQL-zTOuMlz"
      },
      "source": [
        "!cp /scripts/preprocessing/partition_dataset.py .\n",
        "!python3 /partition_dataset.py -x -i /workspace/training_demo/images -r 0.1"
      ],
      "execution_count": 69,
      "outputs": []
    },
    {
      "cell_type": "markdown",
      "metadata": {
        "id": "h--7A7P16uq9"
      },
      "source": [
        "# Generate TFRECORD"
      ]
    },
    {
      "cell_type": "code",
      "metadata": {
        "colab": {
          "base_uri": "https://localhost:8080/"
        },
        "id": "AJYJYGxk5Ped",
        "outputId": "52a2b517-2585-4d4b-b756-52327dfabf60"
      },
      "source": [
        "# clone generate_tfrecord.py\n",
        "%%bash\n",
        "cd /scripts/preprocessing\n",
        "wget https://raw.githubusercontent.com/didiruhyadi/SiliragungNet-Model/main/scripts/preprocessing/generate_tfrecord.py"
      ],
      "execution_count": 76,
      "outputs": [
        {
          "output_type": "stream",
          "text": [
            "--2021-05-08 17:29:04--  https://raw.githubusercontent.com/didiruhyadi/SiliragungNet-Model/main/scripts/preprocessing/generate_tfrecord.py\n",
            "Resolving raw.githubusercontent.com (raw.githubusercontent.com)... 185.199.108.133, 185.199.109.133, 185.199.110.133, ...\n",
            "Connecting to raw.githubusercontent.com (raw.githubusercontent.com)|185.199.108.133|:443... connected.\n",
            "HTTP request sent, awaiting response... 200 OK\n",
            "Length: 6251 (6.1K) [text/plain]\n",
            "Saving to: ‘generate_tfrecord.py’\n",
            "\n",
            "     0K ......                                                100% 30.4M=0s\n",
            "\n",
            "2021-05-08 17:29:04 (30.4 MB/s) - ‘generate_tfrecord.py’ saved [6251/6251]\n",
            "\n"
          ],
          "name": "stderr"
        }
      ]
    },
    {
      "cell_type": "code",
      "metadata": {
        "colab": {
          "base_uri": "https://localhost:8080/"
        },
        "id": "8OCIEF7s7CrK",
        "outputId": "f6db2a7e-d889-43ef-b515-5e9a6d5ae396"
      },
      "source": [
        "!cp /scripts/preprocessing/generate_tfrecord.py .\n",
        "\n",
        "# Create train data:\n",
        "!python generate_tfrecord.py -x /workspace/training_demo/images/train -l /workspace/training_demo/annotations/label_map.pbtxt -o /workspace/training_demo/annotations/train.record\n",
        "\n",
        "# Create test data:\n",
        "!python generate_tfrecord.py -x /workspace/training_demo/images/test -l /workspace/training_demo/annotations/label_map.pbtxt -o /workspace/training_demo/annotations/test.record"
      ],
      "execution_count": 83,
      "outputs": [
        {
          "output_type": "stream",
          "text": [
            "Successfully created the TFRecord file: /workspace/training_demo/annotations/train.record\n",
            "Successfully created the TFRecord file: /workspace/training_demo/annotations/test.record\n"
          ],
          "name": "stdout"
        }
      ]
    },
    {
      "cell_type": "markdown",
      "metadata": {
        "id": "0pFo1A0_NArq"
      },
      "source": [
        "# Training Model"
      ]
    },
    {
      "cell_type": "code",
      "metadata": {
        "colab": {
          "base_uri": "https://localhost:8080/"
        },
        "id": "9jSEwsH671Wt",
        "outputId": "844cc212-37af-4590-efd3-4d3edb95b4fb"
      },
      "source": [
        "# download pre-trained model\n",
        "%%bash\n",
        "cd /workspace/training_demo/pre_trained_models\n",
        "wget http://download.tensorflow.org/models/object_detection/tf2/20200711/ssd_mobilenet_v2_fpnlite_640x640_coco17_tpu-8.tar.gz\n",
        "\n",
        "# unzip\n",
        "tar xvzf ssd_mobilenet_v2_fpnlite_640x640_coco17_tpu-8.tar.gz"
      ],
      "execution_count": 85,
      "outputs": [
        {
          "output_type": "stream",
          "text": [
            "ssd_mobilenet_v2_fpnlite_640x640_coco17_tpu-8/\n",
            "ssd_mobilenet_v2_fpnlite_640x640_coco17_tpu-8/checkpoint/\n",
            "ssd_mobilenet_v2_fpnlite_640x640_coco17_tpu-8/checkpoint/ckpt-0.data-00000-of-00001\n",
            "ssd_mobilenet_v2_fpnlite_640x640_coco17_tpu-8/checkpoint/checkpoint\n",
            "ssd_mobilenet_v2_fpnlite_640x640_coco17_tpu-8/checkpoint/ckpt-0.index\n",
            "ssd_mobilenet_v2_fpnlite_640x640_coco17_tpu-8/pipeline.config\n",
            "ssd_mobilenet_v2_fpnlite_640x640_coco17_tpu-8/saved_model/\n",
            "ssd_mobilenet_v2_fpnlite_640x640_coco17_tpu-8/saved_model/saved_model.pb\n",
            "ssd_mobilenet_v2_fpnlite_640x640_coco17_tpu-8/saved_model/variables/\n",
            "ssd_mobilenet_v2_fpnlite_640x640_coco17_tpu-8/saved_model/variables/variables.data-00000-of-00001\n",
            "ssd_mobilenet_v2_fpnlite_640x640_coco17_tpu-8/saved_model/variables/variables.index\n"
          ],
          "name": "stdout"
        },
        {
          "output_type": "stream",
          "text": [
            "--2021-05-08 18:21:52--  http://download.tensorflow.org/models/object_detection/tf2/20200711/ssd_mobilenet_v2_fpnlite_640x640_coco17_tpu-8.tar.gz\n",
            "Resolving download.tensorflow.org (download.tensorflow.org)... 74.125.26.128, 2607:f8b0:400c:c04::80\n",
            "Connecting to download.tensorflow.org (download.tensorflow.org)|74.125.26.128|:80... connected.\n",
            "HTTP request sent, awaiting response... 200 OK\n",
            "Length: 20518283 (20M) [application/x-tar]\n",
            "Saving to: ‘ssd_mobilenet_v2_fpnlite_640x640_coco17_tpu-8.tar.gz.1’\n",
            "\n",
            "     0K .......... .......... .......... .......... ..........  0% 51.0M 0s\n",
            "    50K .......... .......... .......... .......... ..........  0% 70.1M 0s\n",
            "   100K .......... .......... .......... .......... ..........  0%  163M 0s\n",
            "   150K .......... .......... .......... .......... ..........  0%  106M 0s\n",
            "   200K .......... .......... .......... .......... ..........  1%  149M 0s\n",
            "   250K .......... .......... .......... .......... ..........  1%  179M 0s\n",
            "   300K .......... .......... .......... .......... ..........  1%  322M 0s\n",
            "   350K .......... .......... .......... .......... ..........  1%  308M 0s\n",
            "   400K .......... .......... .......... .......... ..........  2% 46.6M 0s\n",
            "   450K .......... .......... .......... .......... ..........  2%  119M 0s\n",
            "   500K .......... .......... .......... .......... ..........  2%  222M 0s\n",
            "   550K .......... .......... .......... .......... ..........  2% 60.0M 0s\n",
            "   600K .......... .......... .......... .......... ..........  3% 57.0M 0s\n",
            "   650K .......... .......... .......... .......... ..........  3%  293M 0s\n",
            "   700K .......... .......... .......... .......... ..........  3%  106M 0s\n",
            "   750K .......... .......... .......... .......... ..........  3%  188M 0s\n",
            "   800K .......... .......... .......... .......... ..........  4%  187M 0s\n",
            "   850K .......... .......... .......... .......... ..........  4%  202M 0s\n",
            "   900K .......... .......... .......... .......... ..........  4%  340M 0s\n",
            "   950K .......... .......... .......... .......... ..........  4% 73.1M 0s\n",
            "  1000K .......... .......... .......... .......... ..........  5%  155M 0s\n",
            "  1050K .......... .......... .......... .......... ..........  5%  252M 0s\n",
            "  1100K .......... .......... .......... .......... ..........  5% 73.1M 0s\n",
            "  1150K .......... .......... .......... .......... ..........  5%  124M 0s\n",
            "  1200K .......... .......... .......... .......... ..........  6%  149M 0s\n",
            "  1250K .......... .......... .......... .......... ..........  6%  326M 0s\n",
            "  1300K .......... .......... .......... .......... ..........  6%  296M 0s\n",
            "  1350K .......... .......... .......... .......... ..........  6%  242M 0s\n",
            "  1400K .......... .......... .......... .......... ..........  7%  238M 0s\n",
            "  1450K .......... .......... .......... .......... ..........  7%  203M 0s\n",
            "  1500K .......... .......... .......... .......... ..........  7%  188M 0s\n",
            "  1550K .......... .......... .......... .......... ..........  7%  255M 0s\n",
            "  1600K .......... .......... .......... .......... ..........  8%  214M 0s\n",
            "  1650K .......... .......... .......... .......... ..........  8%  258M 0s\n",
            "  1700K .......... .......... .......... .......... ..........  8%  206M 0s\n",
            "  1750K .......... .......... .......... .......... ..........  8%  298M 0s\n",
            "  1800K .......... .......... .......... .......... ..........  9%  247M 0s\n",
            "  1850K .......... .......... .......... .......... ..........  9%  284M 0s\n",
            "  1900K .......... .......... .......... .......... ..........  9%  288M 0s\n",
            "  1950K .......... .......... .......... .......... ..........  9%  220M 0s\n",
            "  2000K .......... .......... .......... .......... .......... 10%  280M 0s\n",
            "  2050K .......... .......... .......... .......... .......... 10%  233M 0s\n",
            "  2100K .......... .......... .......... .......... .......... 10%  187M 0s\n",
            "  2150K .......... .......... .......... .......... .......... 10%  165M 0s\n",
            "  2200K .......... .......... .......... .......... .......... 11%  117M 0s\n",
            "  2250K .......... .......... .......... .......... .......... 11%  216M 0s\n",
            "  2300K .......... .......... .......... .......... .......... 11%  126M 0s\n",
            "  2350K .......... .......... .......... .......... .......... 11%  232M 0s\n",
            "  2400K .......... .......... .......... .......... .......... 12%  181M 0s\n",
            "  2450K .......... .......... .......... .......... .......... 12%  205M 0s\n",
            "  2500K .......... .......... .......... .......... .......... 12%  203M 0s\n",
            "  2550K .......... .......... .......... .......... .......... 12%  284M 0s\n",
            "  2600K .......... .......... .......... .......... .......... 13% 85.5M 0s\n",
            "  2650K .......... .......... .......... .......... .......... 13%  218M 0s\n",
            "  2700K .......... .......... .......... .......... .......... 13%  242M 0s\n",
            "  2750K .......... .......... .......... .......... .......... 13%  224M 0s\n",
            "  2800K .......... .......... .......... .......... .......... 14%  175M 0s\n",
            "  2850K .......... .......... .......... .......... .......... 14%  240M 0s\n",
            "  2900K .......... .......... .......... .......... .......... 14%  206M 0s\n",
            "  2950K .......... .......... .......... .......... .......... 14%  235M 0s\n",
            "  3000K .......... .......... .......... .......... .......... 15%  248M 0s\n",
            "  3050K .......... .......... .......... .......... .......... 15%  226M 0s\n",
            "  3100K .......... .......... .......... .......... .......... 15%  307M 0s\n",
            "  3150K .......... .......... .......... .......... .......... 15%  322M 0s\n",
            "  3200K .......... .......... .......... .......... .......... 16%  234M 0s\n",
            "  3250K .......... .......... .......... .......... .......... 16%  344M 0s\n",
            "  3300K .......... .......... .......... .......... .......... 16%  275M 0s\n",
            "  3350K .......... .......... .......... .......... .......... 16%  211M 0s\n",
            "  3400K .......... .......... .......... .......... .......... 17%  213M 0s\n",
            "  3450K .......... .......... .......... .......... .......... 17%  228M 0s\n",
            "  3500K .......... .......... .......... .......... .......... 17%  213M 0s\n",
            "  3550K .......... .......... .......... .......... .......... 17%  243M 0s\n",
            "  3600K .......... .......... .......... .......... .......... 18%  263M 0s\n",
            "  3650K .......... .......... .......... .......... .......... 18%  333M 0s\n",
            "  3700K .......... .......... .......... .......... .......... 18%  335M 0s\n",
            "  3750K .......... .......... .......... .......... .......... 18%  313M 0s\n",
            "  3800K .......... .......... .......... .......... .......... 19%  320M 0s\n",
            "  3850K .......... .......... .......... .......... .......... 19%  250M 0s\n",
            "  3900K .......... .......... .......... .......... .......... 19%  320M 0s\n",
            "  3950K .......... .......... .......... .......... .......... 19%  274M 0s\n",
            "  4000K .......... .......... .......... .......... .......... 20%  237M 0s\n",
            "  4050K .......... .......... .......... .......... .......... 20% 51.7M 0s\n",
            "  4100K .......... .......... .......... .......... .......... 20% 58.3M 0s\n",
            "  4150K .......... .......... .......... .......... .......... 20%  141M 0s\n",
            "  4200K .......... .......... .......... .......... .......... 21%  206M 0s\n",
            "  4250K .......... .......... .......... .......... .......... 21%  215M 0s\n",
            "  4300K .......... .......... .......... .......... .......... 21%  164M 0s\n",
            "  4350K .......... .......... .......... .......... .......... 21%  192M 0s\n",
            "  4400K .......... .......... .......... .......... .......... 22%  224M 0s\n",
            "  4450K .......... .......... .......... .......... .......... 22%  249M 0s\n",
            "  4500K .......... .......... .......... .......... .......... 22%  251M 0s\n",
            "  4550K .......... .......... .......... .......... .......... 22%  264M 0s\n",
            "  4600K .......... .......... .......... .......... .......... 23%  174M 0s\n",
            "  4650K .......... .......... .......... .......... .......... 23%  257M 0s\n",
            "  4700K .......... .......... .......... .......... .......... 23%  324M 0s\n",
            "  4750K .......... .......... .......... .......... .......... 23%  158M 0s\n",
            "  4800K .......... .......... .......... .......... .......... 24%  223M 0s\n",
            "  4850K .......... .......... .......... .......... .......... 24%  268M 0s\n",
            "  4900K .......... .......... .......... .......... .......... 24% 65.9M 0s\n",
            "  4950K .......... .......... .......... .......... .......... 24% 64.1M 0s\n",
            "  5000K .......... .......... .......... .......... .......... 25%  136M 0s\n",
            "  5050K .......... .......... .......... .......... .......... 25%  212M 0s\n",
            "  5100K .......... .......... .......... .......... .......... 25% 86.8M 0s\n",
            "  5150K .......... .......... .......... .......... .......... 25% 44.2M 0s\n",
            "  5200K .......... .......... .......... .......... .......... 26% 66.4M 0s\n",
            "  5250K .......... .......... .......... .......... .......... 26%  353M 0s\n",
            "  5300K .......... .......... .......... .......... .......... 26%  367M 0s\n",
            "  5350K .......... .......... .......... .......... .......... 26%  344M 0s\n",
            "  5400K .......... .......... .......... .......... .......... 27%  293M 0s\n",
            "  5450K .......... .......... .......... .......... .......... 27%  351M 0s\n",
            "  5500K .......... .......... .......... .......... .......... 27%  323M 0s\n",
            "  5550K .......... .......... .......... .......... .......... 27% 94.3M 0s\n",
            "  5600K .......... .......... .......... .......... .......... 28% 42.2M 0s\n",
            "  5650K .......... .......... .......... .......... .......... 28% 49.2M 0s\n",
            "  5700K .......... .......... .......... .......... .......... 28% 86.6M 0s\n",
            "  5750K .......... .......... .......... .......... .......... 28%  314M 0s\n",
            "  5800K .......... .......... .......... .......... .......... 29%  273M 0s\n",
            "  5850K .......... .......... .......... .......... .......... 29%  328M 0s\n",
            "  5900K .......... .......... .......... .......... .......... 29%  295M 0s\n",
            "  5950K .......... .......... .......... .......... .......... 29%  372M 0s\n",
            "  6000K .......... .......... .......... .......... .......... 30%  250M 0s\n",
            "  6050K .......... .......... .......... .......... .......... 30%  357M 0s\n",
            "  6100K .......... .......... .......... .......... .......... 30% 21.3M 0s\n",
            "  6150K .......... .......... .......... .......... .......... 30% 57.7M 0s\n",
            "  6200K .......... .......... .......... .......... .......... 31% 25.7M 0s\n",
            "  6250K .......... .......... .......... .......... .......... 31%  125M 0s\n",
            "  6300K .......... .......... .......... .......... .......... 31%  240M 0s\n",
            "  6350K .......... .......... .......... .......... .......... 31%  122M 0s\n",
            "  6400K .......... .......... .......... .......... .......... 32%  168M 0s\n",
            "  6450K .......... .......... .......... .......... .......... 32%  219M 0s\n",
            "  6500K .......... .......... .......... .......... .......... 32%  162M 0s\n",
            "  6550K .......... .......... .......... .......... .......... 32%  246M 0s\n",
            "  6600K .......... .......... .......... .......... .......... 33%  239M 0s\n",
            "  6650K .......... .......... .......... .......... .......... 33%  348M 0s\n",
            "  6700K .......... .......... .......... .......... .......... 33%  267M 0s\n",
            "  6750K .......... .......... .......... .......... .......... 33%  207M 0s\n",
            "  6800K .......... .......... .......... .......... .......... 34%  210M 0s\n",
            "  6850K .......... .......... .......... .......... .......... 34%  254M 0s\n",
            "  6900K .......... .......... .......... .......... .......... 34% 50.9M 0s\n",
            "  6950K .......... .......... .......... .......... .......... 34% 45.4M 0s\n",
            "  7000K .......... .......... .......... .......... .......... 35% 31.3M 0s\n",
            "  7050K .......... .......... .......... .......... .......... 35% 67.7M 0s\n",
            "  7100K .......... .......... .......... .......... .......... 35%  126M 0s\n",
            "  7150K .......... .......... .......... .......... .......... 35%  189M 0s\n",
            "  7200K .......... .......... .......... .......... .......... 36%  172M 0s\n",
            "  7250K .......... .......... .......... .......... .......... 36%  205M 0s\n",
            "  7300K .......... .......... .......... .......... .......... 36%  128M 0s\n",
            "  7350K .......... .......... .......... .......... .......... 36%  192M 0s\n",
            "  7400K .......... .......... .......... .......... .......... 37%  179M 0s\n",
            "  7450K .......... .......... .......... .......... .......... 37%  191M 0s\n",
            "  7500K .......... .......... .......... .......... .......... 37%  232M 0s\n",
            "  7550K .......... .......... .......... .......... .......... 37%  298M 0s\n",
            "  7600K .......... .......... .......... .......... .......... 38%  266M 0s\n",
            "  7650K .......... .......... .......... .......... .......... 38%  249M 0s\n",
            "  7700K .......... .......... .......... .......... .......... 38%  259M 0s\n",
            "  7750K .......... .......... .......... .......... .......... 38%  266M 0s\n",
            "  7800K .......... .......... .......... .......... .......... 39%  240M 0s\n",
            "  7850K .......... .......... .......... .......... .......... 39%  293M 0s\n",
            "  7900K .......... .......... .......... .......... .......... 39%  290M 0s\n",
            "  7950K .......... .......... .......... .......... .......... 39%  277M 0s\n",
            "  8000K .......... .......... .......... .......... .......... 40%  228M 0s\n",
            "  8050K .......... .......... .......... .......... .......... 40%  297M 0s\n",
            "  8100K .......... .......... .......... .......... .......... 40%  288M 0s\n",
            "  8150K .......... .......... .......... .......... .......... 40%  276M 0s\n",
            "  8200K .......... .......... .......... .......... .......... 41%  275M 0s\n",
            "  8250K .......... .......... .......... .......... .......... 41%  255M 0s\n",
            "  8300K .......... .......... .......... .......... .......... 41%  277M 0s\n",
            "  8350K .......... .......... .......... .......... .......... 41%  300M 0s\n",
            "  8400K .......... .......... .......... .......... .......... 42%  253M 0s\n",
            "  8450K .......... .......... .......... .......... .......... 42%  258M 0s\n",
            "  8500K .......... .......... .......... .......... .......... 42%  306M 0s\n",
            "  8550K .......... .......... .......... .......... .......... 42%  275M 0s\n",
            "  8600K .......... .......... .......... .......... .......... 43%  259M 0s\n",
            "  8650K .......... .......... .......... .......... .......... 43%  325M 0s\n",
            "  8700K .......... .......... .......... .......... .......... 43%  304M 0s\n",
            "  8750K .......... .......... .......... .......... .......... 43%  262M 0s\n",
            "  8800K .......... .......... .......... .......... .......... 44%  253M 0s\n",
            "  8850K .......... .......... .......... .......... .......... 44%  285M 0s\n",
            "  8900K .......... .......... .......... .......... .......... 44%  287M 0s\n",
            "  8950K .......... .......... .......... .......... .......... 44%  280M 0s\n",
            "  9000K .......... .......... .......... .......... .......... 45%  240M 0s\n",
            "  9050K .......... .......... .......... .......... .......... 45%  315M 0s\n",
            "  9100K .......... .......... .......... .......... .......... 45%  264M 0s\n",
            "  9150K .......... .......... .......... .......... .......... 45%  305M 0s\n",
            "  9200K .......... .......... .......... .......... .......... 46%  193M 0s\n",
            "  9250K .......... .......... .......... .......... .......... 46%  265M 0s\n",
            "  9300K .......... .......... .......... .......... .......... 46%  251M 0s\n",
            "  9350K .......... .......... .......... .......... .......... 46%  271M 0s\n",
            "  9400K .......... .......... .......... .......... .......... 47%  254M 0s\n",
            "  9450K .......... .......... .......... .......... .......... 47%  315M 0s\n",
            "  9500K .......... .......... .......... .......... .......... 47%  281M 0s\n",
            "  9550K .......... .......... .......... .......... .......... 47%  292M 0s\n",
            "  9600K .......... .......... .......... .......... .......... 48%  287M 0s\n",
            "  9650K .......... .......... .......... .......... .......... 48%  273M 0s\n",
            "  9700K .......... .......... .......... .......... .......... 48%  295M 0s\n",
            "  9750K .......... .......... .......... .......... .......... 48%  306M 0s\n",
            "  9800K .......... .......... .......... .......... .......... 49%  242M 0s\n",
            "  9850K .......... .......... .......... .......... .......... 49%  304M 0s\n",
            "  9900K .......... .......... .......... .......... .......... 49%  282M 0s\n",
            "  9950K .......... .......... .......... .......... .......... 49%  281M 0s\n",
            " 10000K .......... .......... .......... .......... .......... 50%  207M 0s\n",
            " 10050K .......... .......... .......... .......... .......... 50%  171M 0s\n",
            " 10100K .......... .......... .......... .......... .......... 50%  362M 0s\n",
            " 10150K .......... .......... .......... .......... .......... 50%  236M 0s\n",
            " 10200K .......... .......... .......... .......... .......... 51%  198M 0s\n",
            " 10250K .......... .......... .......... .......... .......... 51%  238M 0s\n",
            " 10300K .......... .......... .......... .......... .......... 51%  273M 0s\n",
            " 10350K .......... .......... .......... .......... .......... 51%  323M 0s\n",
            " 10400K .......... .......... .......... .......... .......... 52%  244M 0s\n",
            " 10450K .......... .......... .......... .......... .......... 52%  212M 0s\n",
            " 10500K .......... .......... .......... .......... .......... 52%  279M 0s\n",
            " 10550K .......... .......... .......... .......... .......... 52%  216M 0s\n",
            " 10600K .......... .......... .......... .......... .......... 53%  259M 0s\n",
            " 10650K .......... .......... .......... .......... .......... 53%  302M 0s\n",
            " 10700K .......... .......... .......... .......... .......... 53%  247M 0s\n",
            " 10750K .......... .......... .......... .......... .......... 53%  261M 0s\n",
            " 10800K .......... .......... .......... .......... .......... 54%  219M 0s\n",
            " 10850K .......... .......... .......... .......... .......... 54%  248M 0s\n",
            " 10900K .......... .......... .......... .......... .......... 54%  239M 0s\n",
            " 10950K .......... .......... .......... .......... .......... 54%  211M 0s\n",
            " 11000K .......... .......... .......... .......... .......... 55%  116M 0s\n",
            " 11050K .......... .......... .......... .......... .......... 55%  254M 0s\n",
            " 11100K .......... .......... .......... .......... .......... 55%  275M 0s\n",
            " 11150K .......... .......... .......... .......... .......... 55%  112M 0s\n",
            " 11200K .......... .......... .......... .......... .......... 56% 82.6M 0s\n",
            " 11250K .......... .......... .......... .......... .......... 56%  205M 0s\n",
            " 11300K .......... .......... .......... .......... .......... 56%  258M 0s\n",
            " 11350K .......... .......... .......... .......... .......... 56%  255M 0s\n",
            " 11400K .......... .......... .......... .......... .......... 57%  238M 0s\n",
            " 11450K .......... .......... .......... .......... .......... 57%  134M 0s\n",
            " 11500K .......... .......... .......... .......... .......... 57%  234M 0s\n",
            " 11550K .......... .......... .......... .......... .......... 57%  270M 0s\n",
            " 11600K .......... .......... .......... .......... .......... 58%  235M 0s\n",
            " 11650K .......... .......... .......... .......... .......... 58%  122M 0s\n",
            " 11700K .......... .......... .......... .......... .......... 58%  116M 0s\n",
            " 11750K .......... .......... .......... .......... .......... 58%  262M 0s\n",
            " 11800K .......... .......... .......... .......... .......... 59%  161M 0s\n",
            " 11850K .......... .......... .......... .......... .......... 59%  264M 0s\n",
            " 11900K .......... .......... .......... .......... .......... 59%  252M 0s\n",
            " 11950K .......... .......... .......... .......... .......... 59%  268M 0s\n",
            " 12000K .......... .......... .......... .......... .......... 60%  232M 0s\n",
            " 12050K .......... .......... .......... .......... .......... 60%  138M 0s\n",
            " 12100K .......... .......... .......... .......... .......... 60%  273M 0s\n",
            " 12150K .......... .......... .......... .......... .......... 60%  248M 0s\n",
            " 12200K .......... .......... .......... .......... .......... 61%  213M 0s\n",
            " 12250K .......... .......... .......... .......... .......... 61%  264M 0s\n",
            " 12300K .......... .......... .......... .......... .......... 61%  242M 0s\n",
            " 12350K .......... .......... .......... .......... .......... 61%  258M 0s\n",
            " 12400K .......... .......... .......... .......... .......... 62%  247M 0s\n",
            " 12450K .......... .......... .......... .......... .......... 62%  250M 0s\n",
            " 12500K .......... .......... .......... .......... .......... 62%  331M 0s\n",
            " 12550K .......... .......... .......... .......... .......... 62%  267M 0s\n",
            " 12600K .......... .......... .......... .......... .......... 63%  223M 0s\n",
            " 12650K .......... .......... .......... .......... .......... 63%  263M 0s\n",
            " 12700K .......... .......... .......... .......... .......... 63%  299M 0s\n",
            " 12750K .......... .......... .......... .......... .......... 63%  235M 0s\n",
            " 12800K .......... .......... .......... .......... .......... 64%  169M 0s\n",
            " 12850K .......... .......... .......... .......... .......... 64%  289M 0s\n",
            " 12900K .......... .......... .......... .......... .......... 64%  284M 0s\n",
            " 12950K .......... .......... .......... .......... .......... 64%  237M 0s\n",
            " 13000K .......... .......... .......... .......... .......... 65%  230M 0s\n",
            " 13050K .......... .......... .......... .......... .......... 65%  258M 0s\n",
            " 13100K .......... .......... .......... .......... .......... 65%  254M 0s\n",
            " 13150K .......... .......... .......... .......... .......... 65%  294M 0s\n",
            " 13200K .......... .......... .......... .......... .......... 66%  215M 0s\n",
            " 13250K .......... .......... .......... .......... .......... 66%  237M 0s\n",
            " 13300K .......... .......... .......... .......... .......... 66%  233M 0s\n",
            " 13350K .......... .......... .......... .......... .......... 66%  309M 0s\n",
            " 13400K .......... .......... .......... .......... .......... 67%  264M 0s\n",
            " 13450K .......... .......... .......... .......... .......... 67%  351M 0s\n",
            " 13500K .......... .......... .......... .......... .......... 67%  269M 0s\n",
            " 13550K .......... .......... .......... .......... .......... 67%  198M 0s\n",
            " 13600K .......... .......... .......... .......... .......... 68%  262M 0s\n",
            " 13650K .......... .......... .......... .......... .......... 68%  327M 0s\n",
            " 13700K .......... .......... .......... .......... .......... 68%  114M 0s\n",
            " 13750K .......... .......... .......... .......... .......... 68%  257M 0s\n",
            " 13800K .......... .......... .......... .......... .......... 69%  164M 0s\n",
            " 13850K .......... .......... .......... .......... .......... 69%  246M 0s\n",
            " 13900K .......... .......... .......... .......... .......... 69%  238M 0s\n",
            " 13950K .......... .......... .......... .......... .......... 69%  234M 0s\n",
            " 14000K .......... .......... .......... .......... .......... 70%  209M 0s\n",
            " 14050K .......... .......... .......... .......... .......... 70%  263M 0s\n",
            " 14100K .......... .......... .......... .......... .......... 70%  267M 0s\n",
            " 14150K .......... .......... .......... .......... .......... 70%  274M 0s\n",
            " 14200K .......... .......... .......... .......... .......... 71%  210M 0s\n",
            " 14250K .......... .......... .......... .......... .......... 71%  231M 0s\n",
            " 14300K .......... .......... .......... .......... .......... 71%  247M 0s\n",
            " 14350K .......... .......... .......... .......... .......... 71%  278M 0s\n",
            " 14400K .......... .......... .......... .......... .......... 72%  242M 0s\n",
            " 14450K .......... .......... .......... .......... .......... 72% 98.6M 0s\n",
            " 14500K .......... .......... .......... .......... .......... 72%  255M 0s\n",
            " 14550K .......... .......... .......... .......... .......... 72%  273M 0s\n",
            " 14600K .......... .......... .......... .......... .......... 73%  247M 0s\n",
            " 14650K .......... .......... .......... .......... .......... 73%  213M 0s\n",
            " 14700K .......... .......... .......... .......... .......... 73%  261M 0s\n",
            " 14750K .......... .......... .......... .......... .......... 73%  285M 0s\n",
            " 14800K .......... .......... .......... .......... .......... 74%  237M 0s\n",
            " 14850K .......... .......... .......... .......... .......... 74%  293M 0s\n",
            " 14900K .......... .......... .......... .......... .......... 74%  284M 0s\n",
            " 14950K .......... .......... .......... .......... .......... 74%  270M 0s\n",
            " 15000K .......... .......... .......... .......... .......... 75%  183M 0s\n",
            " 15050K .......... .......... .......... .......... .......... 75%  288M 0s\n",
            " 15100K .......... .......... .......... .......... .......... 75%  302M 0s\n",
            " 15150K .......... .......... .......... .......... .......... 75%  120M 0s\n",
            " 15200K .......... .......... .......... .......... .......... 76%  138M 0s\n",
            " 15250K .......... .......... .......... .......... .......... 76%  284M 0s\n",
            " 15300K .......... .......... .......... .......... .......... 76%  263M 0s\n",
            " 15350K .......... .......... .......... .......... .......... 76%  386M 0s\n",
            " 15400K .......... .......... .......... .......... .......... 77%  233M 0s\n",
            " 15450K .......... .......... .......... .......... .......... 77%  225M 0s\n",
            " 15500K .......... .......... .......... .......... .......... 77%  305M 0s\n",
            " 15550K .......... .......... .......... .......... .......... 77%  256M 0s\n",
            " 15600K .......... .......... .......... .......... .......... 78%  232M 0s\n",
            " 15650K .......... .......... .......... .......... .......... 78%  267M 0s\n",
            " 15700K .......... .......... .......... .......... .......... 78%  301M 0s\n",
            " 15750K .......... .......... .......... .......... .......... 78%  244M 0s\n",
            " 15800K .......... .......... .......... .......... .......... 79%  228M 0s\n",
            " 15850K .......... .......... .......... .......... .......... 79%  294M 0s\n",
            " 15900K .......... .......... .......... .......... .......... 79%  235M 0s\n",
            " 15950K .......... .......... .......... .......... .......... 79%  268M 0s\n",
            " 16000K .......... .......... .......... .......... .......... 80%  244M 0s\n",
            " 16050K .......... .......... .......... .......... .......... 80%  271M 0s\n",
            " 16100K .......... .......... .......... .......... .......... 80%  251M 0s\n",
            " 16150K .......... .......... .......... .......... .......... 80%  285M 0s\n",
            " 16200K .......... .......... .......... .......... .......... 81%  228M 0s\n",
            " 16250K .......... .......... .......... .......... .......... 81%  215M 0s\n",
            " 16300K .......... .......... .......... .......... .......... 81%  238M 0s\n",
            " 16350K .......... .......... .......... .......... .......... 81%  305M 0s\n",
            " 16400K .......... .......... .......... .......... .......... 82%  212M 0s\n",
            " 16450K .......... .......... .......... .......... .......... 82%  276M 0s\n",
            " 16500K .......... .......... .......... .......... .......... 82%  256M 0s\n",
            " 16550K .......... .......... .......... .......... .......... 82%  235M 0s\n",
            " 16600K .......... .......... .......... .......... .......... 83%  239M 0s\n",
            " 16650K .......... .......... .......... .......... .......... 83%  271M 0s\n",
            " 16700K .......... .......... .......... .......... .......... 83%  243M 0s\n",
            " 16750K .......... .......... .......... .......... .......... 83%  251M 0s\n",
            " 16800K .......... .......... .......... .......... .......... 84%  233M 0s\n",
            " 16850K .......... .......... .......... .......... .......... 84%  244M 0s\n",
            " 16900K .......... .......... .......... .......... .......... 84%  304M 0s\n",
            " 16950K .......... .......... .......... .......... .......... 84%  257M 0s\n",
            " 17000K .......... .......... .......... .......... .......... 85%  256M 0s\n",
            " 17050K .......... .......... .......... .......... .......... 85%  260M 0s\n",
            " 17100K .......... .......... .......... .......... .......... 85%  276M 0s\n",
            " 17150K .......... .......... .......... .......... .......... 85%  225M 0s\n",
            " 17200K .......... .......... .......... .......... .......... 86%  216M 0s\n",
            " 17250K .......... .......... .......... .......... .......... 86%  314M 0s\n",
            " 17300K .......... .......... .......... .......... .......... 86%  261M 0s\n",
            " 17350K .......... .......... .......... .......... .......... 86%  271M 0s\n",
            " 17400K .......... .......... .......... .......... .......... 87%  259M 0s\n",
            " 17450K .......... .......... .......... .......... .......... 87%  296M 0s\n",
            " 17500K .......... .......... .......... .......... .......... 87%  209M 0s\n",
            " 17550K .......... .......... .......... .......... .......... 87%  270M 0s\n",
            " 17600K .......... .......... .......... .......... .......... 88%  261M 0s\n",
            " 17650K .......... .......... .......... .......... .......... 88%  262M 0s\n",
            " 17700K .......... .......... .......... .......... .......... 88%  299M 0s\n",
            " 17750K .......... .......... .......... .......... .......... 88%  161M 0s\n",
            " 17800K .......... .......... .......... .......... .......... 89%  214M 0s\n",
            " 17850K .......... .......... .......... .......... .......... 89%  298M 0s\n",
            " 17900K .......... .......... .......... .......... .......... 89%  339M 0s\n",
            " 17950K .......... .......... .......... .......... .......... 89%  334M 0s\n",
            " 18000K .......... .......... .......... .......... .......... 90%  247M 0s\n",
            " 18050K .......... .......... .......... .......... .......... 90%  272M 0s\n",
            " 18100K .......... .......... .......... .......... .......... 90%  247M 0s\n",
            " 18150K .......... .......... .......... .......... .......... 90%  288M 0s\n",
            " 18200K .......... .......... .......... .......... .......... 91%  272M 0s\n",
            " 18250K .......... .......... .......... .......... .......... 91%  238M 0s\n",
            " 18300K .......... .......... .......... .......... .......... 91%  285M 0s\n",
            " 18350K .......... .......... .......... .......... .......... 91%  278M 0s\n",
            " 18400K .......... .......... .......... .......... .......... 92%  218M 0s\n",
            " 18450K .......... .......... .......... .......... .......... 92%  328M 0s\n",
            " 18500K .......... .......... .......... .......... .......... 92%  341M 0s\n",
            " 18550K .......... .......... .......... .......... .......... 92%  237M 0s\n",
            " 18600K .......... .......... .......... .......... .......... 93%  217M 0s\n",
            " 18650K .......... .......... .......... .......... .......... 93%  295M 0s\n",
            " 18700K .......... .......... .......... .......... .......... 93%  288M 0s\n",
            " 18750K .......... .......... .......... .......... .......... 93%  264M 0s\n",
            " 18800K .......... .......... .......... .......... .......... 94%  218M 0s\n",
            " 18850K .......... .......... .......... .......... .......... 94%  265M 0s\n",
            " 18900K .......... .......... .......... .......... .......... 94%  239M 0s\n",
            " 18950K .......... .......... .......... .......... .......... 94%  288M 0s\n",
            " 19000K .......... .......... .......... .......... .......... 95%  219M 0s\n",
            " 19050K .......... .......... .......... .......... .......... 95%  274M 0s\n",
            " 19100K .......... .......... .......... .......... .......... 95%  275M 0s\n",
            " 19150K .......... .......... .......... .......... .......... 95%  313M 0s\n",
            " 19200K .......... .......... .......... .......... .......... 96%  294M 0s\n",
            " 19250K .......... .......... .......... .......... .......... 96%  305M 0s\n",
            " 19300K .......... .......... .......... .......... .......... 96%  354M 0s\n",
            " 19350K .......... .......... .......... .......... .......... 96%  300M 0s\n",
            " 19400K .......... .......... .......... .......... .......... 97%  290M 0s\n",
            " 19450K .......... .......... .......... .......... .......... 97%  314M 0s\n",
            " 19500K .......... .......... .......... .......... .......... 97%  287M 0s\n",
            " 19550K .......... .......... .......... .......... .......... 97%  338M 0s\n",
            " 19600K .......... .......... .......... .......... .......... 98%  295M 0s\n",
            " 19650K .......... .......... .......... .......... .......... 98%  358M 0s\n",
            " 19700K .......... .......... .......... .......... .......... 98%  322M 0s\n",
            " 19750K .......... .......... .......... .......... .......... 98%  320M 0s\n",
            " 19800K .......... .......... .......... .......... .......... 99%  285M 0s\n",
            " 19850K .......... .......... .......... .......... .......... 99%  317M 0s\n",
            " 19900K .......... .......... .......... .......... .......... 99%  354M 0s\n",
            " 19950K .......... .......... .......... .......... .......... 99%  343M 0s\n",
            " 20000K .......... .......... .......... .......              100%  297M=0.1s\n",
            "\n",
            "2021-05-08 18:21:52 (191 MB/s) - ‘ssd_mobilenet_v2_fpnlite_640x640_coco17_tpu-8.tar.gz.1’ saved [20518283/20518283]\n",
            "\n"
          ],
          "name": "stderr"
        }
      ]
    },
    {
      "cell_type": "code",
      "metadata": {
        "colab": {
          "base_uri": "https://localhost:8080/",
          "height": 36
        },
        "id": "FF0RKR00NnOE",
        "outputId": "f77494ee-2e61-40ce-8134-b68f1daffef0"
      },
      "source": [
        "# configure the training pipeline\n",
        "# cell selanjutnya tidak usah di run\n",
        "model_dir = '/workspace/training_demo/models'\n",
        "mobilenet_dir = 'mobilenet_v2_fpnlite_640x640'\n",
        "if not os.path.exists(mobilenet_dir):\n",
        "  os.makedirs(mobilenet_dir)\n",
        "  os.makedirs(os.path.join(model_dir, mobilenet_dir))\n",
        "\n",
        "pipeline_dir = '/workspace/training_demo/pre_trained_models/ssd_mobilenet_v2_fpnlite_640x640_coco17_tpu-8/pipeline.config'\n",
        "\n",
        "shutil.copy(pipeline_dir, mobilenet_dir)"
      ],
      "execution_count": 92,
      "outputs": [
        {
          "output_type": "execute_result",
          "data": {
            "application/vnd.google.colaboratory.intrinsic+json": {
              "type": "string"
            },
            "text/plain": [
              "'/workspace/training_demo/models/pipeline.config'"
            ]
          },
          "metadata": {
            "tags": []
          },
          "execution_count": 92
        }
      ]
    },
    {
      "cell_type": "code",
      "metadata": {
        "colab": {
          "base_uri": "https://localhost:8080/"
        },
        "id": "4_f-2tfROt1O",
        "outputId": "f4da866c-b5e3-4b3d-d1b4-171af6c2d49d"
      },
      "source": [
        "# clone pipeline.config mobilenev2 dari github\n",
        "%%bash\n",
        "cd /workspace/training_demo/models/mobilenet_v2_fpnlite_640x640\n",
        "wget https://raw.githubusercontent.com/didiruhyadi/SiliragungNet-Model/main/models/MobileNetV2/pipeline.config"
      ],
      "execution_count": 102,
      "outputs": [
        {
          "output_type": "stream",
          "text": [
            "--2021-05-08 19:01:06--  https://raw.githubusercontent.com/didiruhyadi/SiliragungNet-Model/main/models/MobileNetV2/pipeline.config\n",
            "Resolving raw.githubusercontent.com (raw.githubusercontent.com)... 185.199.108.133, 185.199.109.133, 185.199.110.133, ...\n",
            "Connecting to raw.githubusercontent.com (raw.githubusercontent.com)|185.199.108.133|:443... connected.\n",
            "HTTP request sent, awaiting response... 200 OK\n",
            "Length: 4863 (4.7K) [text/plain]\n",
            "Saving to: ‘pipeline.config’\n",
            "\n",
            "     0K ....                                                  100% 23.3M=0s\n",
            "\n",
            "2021-05-08 19:01:06 (23.3 MB/s) - ‘pipeline.config’ saved [4863/4863]\n",
            "\n"
          ],
          "name": "stderr"
        }
      ]
    },
    {
      "cell_type": "code",
      "metadata": {
        "colab": {
          "base_uri": "https://localhost:8080/",
          "height": 36
        },
        "id": "L7o26c0ERmb1",
        "outputId": "389ee706-d5eb-40f6-e1d8-aadf28179c20"
      },
      "source": [
        "# copy model_main_tf2.py\n",
        "\n",
        "model_main_dir = '/models/research/object_detection/model_main_tf2.py'\n",
        "target_dir = '/workspace/training_demo'\n",
        "\n",
        "shutil.copy(model_main_dir, target_dir)"
      ],
      "execution_count": 90,
      "outputs": [
        {
          "output_type": "execute_result",
          "data": {
            "application/vnd.google.colaboratory.intrinsic+json": {
              "type": "string"
            },
            "text/plain": [
              "'/workspace/training_demo/model_main_tf2.py'"
            ]
          },
          "metadata": {
            "tags": []
          },
          "execution_count": 90
        }
      ]
    },
    {
      "cell_type": "code",
      "metadata": {
        "colab": {
          "base_uri": "https://localhost:8080/"
        },
        "id": "GClAyFDfUkxk",
        "outputId": "fd63b9c7-a0e0-4cb4-e0bc-20d7990ac931"
      },
      "source": [
        "# install tensorflow addons\n",
        "!pip install tensorflow-addons==0.10.0"
      ],
      "execution_count": 96,
      "outputs": [
        {
          "output_type": "stream",
          "text": [
            "Collecting tensorflow-addons==0.10.0\n",
            "\u001b[?25l  Downloading https://files.pythonhosted.org/packages/70/56/5d2d632b0c55beb2d64977909a53337aadab693deba428aa71c4021c6c3d/tensorflow_addons-0.10.0-cp37-cp37m-manylinux2010_x86_64.whl (1.0MB)\n",
            "\u001b[K     |████████████████████████████████| 1.1MB 7.1MB/s \n",
            "\u001b[?25hRequirement already satisfied: typeguard>=2.7 in /usr/local/lib/python3.7/dist-packages (from tensorflow-addons==0.10.0) (2.7.1)\n",
            "\u001b[31mERROR: tf-models-official 2.4.0 has requirement tensorflow>=2.4.0, but you'll have tensorflow 2.2.0 which is incompatible.\u001b[0m\n",
            "Installing collected packages: tensorflow-addons\n",
            "  Found existing installation: tensorflow-addons 0.12.1\n",
            "    Uninstalling tensorflow-addons-0.12.1:\n",
            "      Successfully uninstalled tensorflow-addons-0.12.1\n",
            "Successfully installed tensorflow-addons-0.10.0\n"
          ],
          "name": "stdout"
        }
      ]
    },
    {
      "cell_type": "code",
      "metadata": {
        "colab": {
          "base_uri": "https://localhost:8080/"
        },
        "id": "BuRH9pc-SRJy",
        "outputId": "f191e1c5-eca7-4647-c5db-53d1d9c9494d"
      },
      "source": [
        "# training the model\n",
        "\n",
        "%%bash\n",
        "cd /workspace/training_demo\n",
        "python model_main_tf2.py --model_dir=models/mobilenet_v2_fpnlite_640x640 --pipeline_config_path=models/mobilenet_v2_fpnlite_640x640/pipeline.config"
      ],
      "execution_count": 103,
      "outputs": [
        {
          "output_type": "stream",
          "text": [
            "Process is terminated.\n"
          ],
          "name": "stdout"
        }
      ]
    },
    {
      "cell_type": "code",
      "metadata": {
        "id": "HBxt73x9T8-S"
      },
      "source": [
        ""
      ],
      "execution_count": null,
      "outputs": []
    }
  ]
}